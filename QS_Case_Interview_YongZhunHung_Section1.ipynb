{
 "cells": [
  {
   "cell_type": "code",
   "execution_count": 238,
   "id": "8c79b032",
   "metadata": {},
   "outputs": [],
   "source": [
    "import pandas as pd\n",
    "from sklearn.preprocessing import MinMaxScaler, LabelEncoder\n",
    "from sklearn.linear_model import LinearRegression\n",
    "from sklearn.ensemble import RandomForestClassifier\n",
    "from sklearn.model_selection import cross_val_score, cross_validate, KFold, train_test_split, StratifiedKFold\n",
    "from sklearn.metrics import mean_squared_error, r2_score, accuracy_score, classification_report, balanced_accuracy_score, f1_score\n",
    "import numpy as np\n",
    "from collections import Counter\n",
    "from scipy.stats import t\n",
    "from scipy.stats import poisson\n",
    "from numpy import sum as arraysum\n",
    "from numpy import sqrt\n",
    "import matplotlib.pyplot as plt\n",
    "import geopandas\n",
    "from imblearn.over_sampling import SMOTE\n",
    "from sklearn.inspection import permutation_importance\n",
    "import re\n",
    "from sklearn.feature_extraction.text import TfidfVectorizer\n",
    "from sklearn.naive_bayes import MultinomialNB\n",
    "from sklearn.pipeline import Pipeline\n",
    "from sklearn.compose import ColumnTransformer"
   ]
  },
  {
   "cell_type": "markdown",
   "id": "56841197",
   "metadata": {},
   "source": [
    "# Question 1 (Prediction)"
   ]
  },
  {
   "cell_type": "code",
   "execution_count": 2,
   "id": "462e68c2",
   "metadata": {},
   "outputs": [],
   "source": [
    "qn1_data = pd.read_csv('data/annual-motor-vehicle-inspection-passing-rate-of-motor-vehicles-on-first-inspection/' \\\n",
    "                       'annual-motor-vehicle-inspection-passing-rate-of-motor-vehicles-on-first-inspection.csv')"
   ]
  },
  {
   "cell_type": "code",
   "execution_count": 3,
   "id": "8275deb9",
   "metadata": {},
   "outputs": [],
   "source": [
    "# Focus on motorcycles\n",
    "qn1_data = qn1_data[qn1_data['type']=='Motorcycles']"
   ]
  },
  {
   "cell_type": "code",
   "execution_count": 4,
   "id": "37f788fd",
   "metadata": {},
   "outputs": [
    {
     "data": {
      "text/html": [
       "<div>\n",
       "<style scoped>\n",
       "    .dataframe tbody tr th:only-of-type {\n",
       "        vertical-align: middle;\n",
       "    }\n",
       "\n",
       "    .dataframe tbody tr th {\n",
       "        vertical-align: top;\n",
       "    }\n",
       "\n",
       "    .dataframe thead th {\n",
       "        text-align: right;\n",
       "    }\n",
       "</style>\n",
       "<table border=\"1\" class=\"dataframe\">\n",
       "  <thead>\n",
       "    <tr style=\"text-align: right;\">\n",
       "      <th></th>\n",
       "      <th>year</th>\n",
       "      <th>type</th>\n",
       "      <th>age</th>\n",
       "      <th>number_reported</th>\n",
       "      <th>number_passed</th>\n",
       "      <th>passing_rate</th>\n",
       "    </tr>\n",
       "  </thead>\n",
       "  <tbody>\n",
       "    <tr>\n",
       "      <th>11</th>\n",
       "      <td>2006</td>\n",
       "      <td>Motorcycles</td>\n",
       "      <td>1</td>\n",
       "      <td>343</td>\n",
       "      <td>329</td>\n",
       "      <td>95.9</td>\n",
       "    </tr>\n",
       "    <tr>\n",
       "      <th>12</th>\n",
       "      <td>2006</td>\n",
       "      <td>Motorcycles</td>\n",
       "      <td>2</td>\n",
       "      <td>577</td>\n",
       "      <td>541</td>\n",
       "      <td>93.8</td>\n",
       "    </tr>\n",
       "    <tr>\n",
       "      <th>13</th>\n",
       "      <td>2006</td>\n",
       "      <td>Motorcycles</td>\n",
       "      <td>3</td>\n",
       "      <td>16235</td>\n",
       "      <td>15066</td>\n",
       "      <td>92.8</td>\n",
       "    </tr>\n",
       "    <tr>\n",
       "      <th>14</th>\n",
       "      <td>2006</td>\n",
       "      <td>Motorcycles</td>\n",
       "      <td>4</td>\n",
       "      <td>15695</td>\n",
       "      <td>14686</td>\n",
       "      <td>93.6</td>\n",
       "    </tr>\n",
       "    <tr>\n",
       "      <th>15</th>\n",
       "      <td>2006</td>\n",
       "      <td>Motorcycles</td>\n",
       "      <td>5</td>\n",
       "      <td>12434</td>\n",
       "      <td>11456</td>\n",
       "      <td>92.1</td>\n",
       "    </tr>\n",
       "  </tbody>\n",
       "</table>\n",
       "</div>"
      ],
      "text/plain": [
       "    year         type age  number_reported  number_passed  passing_rate\n",
       "11  2006  Motorcycles   1              343            329          95.9\n",
       "12  2006  Motorcycles   2              577            541          93.8\n",
       "13  2006  Motorcycles   3            16235          15066          92.8\n",
       "14  2006  Motorcycles   4            15695          14686          93.6\n",
       "15  2006  Motorcycles   5            12434          11456          92.1"
      ]
     },
     "execution_count": 4,
     "metadata": {},
     "output_type": "execute_result"
    }
   ],
   "source": [
    "qn1_data.head()"
   ]
  },
  {
   "cell_type": "code",
   "execution_count": 5,
   "id": "fdfed227",
   "metadata": {},
   "outputs": [
    {
     "data": {
      "text/plain": [
       "array([2006, 2007, 2008, 2009, 2010, 2011, 2012, 2013, 2014, 2015, 2016,\n",
       "       2017])"
      ]
     },
     "execution_count": 5,
     "metadata": {},
     "output_type": "execute_result"
    }
   ],
   "source": [
    "qn1_data['year'].unique()"
   ]
  },
  {
   "cell_type": "markdown",
   "id": "95337e7a",
   "metadata": {},
   "source": [
    "## **Task 1**: What's the average passing rate on first inspection each year, taking into account motorcycles of all age groups?"
   ]
  },
  {
   "cell_type": "code",
   "execution_count": 6,
   "id": "8466910a",
   "metadata": {},
   "outputs": [
    {
     "name": "stdout",
     "output_type": "stream",
     "text": [
      "The average passing rate on first inspection of motorcycles each year (averaged across age) is:\n"
     ]
    },
    {
     "data": {
      "text/plain": [
       "year\n",
       "2006    92.990909\n",
       "2007    93.686925\n",
       "2008    93.870527\n",
       "2009    93.873521\n",
       "2010    93.981256\n",
       "2011    94.045351\n",
       "2012    92.791833\n",
       "2013    89.050335\n",
       "2014    83.116493\n",
       "2015    86.459294\n",
       "2016    87.506665\n",
       "2017    87.604945\n",
       "Name: passing_rate, dtype: float64"
      ]
     },
     "execution_count": 6,
     "metadata": {},
     "output_type": "execute_result"
    }
   ],
   "source": [
    "print('The average passing rate on first inspection of motorcycles each year (averaged across age) is:')\n",
    "qn1_task1 = qn1_data.groupby('year')['passing_rate'].mean()\n",
    "qn1_task1"
   ]
  },
  {
   "cell_type": "markdown",
   "id": "d015e3b1",
   "metadata": {},
   "source": [
    "## **Task 2**: For motorcycles of each age, estimate their passing rate next year.\n",
    "*Candidate's Assumption: Since the question says motorcycles of each age, we assume that we are asked to estimate their passing rate on 2018 (unseen data)*"
   ]
  },
  {
   "cell_type": "code",
   "execution_count": 7,
   "id": "1d82318b",
   "metadata": {},
   "outputs": [
    {
     "name": "stdout",
     "output_type": "stream",
     "text": [
      "As the final year we have is 2017, our input data will only hold until 2016 data.\n"
     ]
    }
   ],
   "source": [
    "max_year = qn1_data['year'].max()\n",
    "print('As the final year we have is 2017, our input data will only hold until 2016 data.')"
   ]
  },
  {
   "cell_type": "code",
   "execution_count": 8,
   "id": "06cbca0b",
   "metadata": {},
   "outputs": [],
   "source": [
    "qn1_data['age_next_year'] = qn1_data['age'].apply(lambda x: '>10' if (x in ('10', '>10')) else str(int(x)+1))"
   ]
  },
  {
   "cell_type": "code",
   "execution_count": 10,
   "id": "390c9b6f",
   "metadata": {},
   "outputs": [],
   "source": [
    "qn1_data['next_year_key'] = qn1_data.apply(lambda x: str(x['year']+1) + '_' + str(x['age_next_year']), axis=1)\n",
    "qn1_data['cur_year_key'] = qn1_data.apply(lambda x: str(x['year']) + '_' + str(x['age']), axis=1)"
   ]
  },
  {
   "cell_type": "code",
   "execution_count": 11,
   "id": "47f194a8",
   "metadata": {},
   "outputs": [],
   "source": [
    "qn1_task2 = qn1_data[['year', 'age', 'next_year_key', 'passing_rate']].merge(qn1_data[['cur_year_key', 'passing_rate']], left_on='next_year_key', right_on='cur_year_key')\n",
    "qn1_task2 = qn1_task2[['year', 'age', 'passing_rate_x', 'passing_rate_y']]\n",
    "qn1_task2 = qn1_task2.rename(columns={'passing_rate_x': 'passing_rate', 'passing_rate_y': 'next_year_passing_rate'})"
   ]
  },
  {
   "cell_type": "code",
   "execution_count": 12,
   "id": "9e518822",
   "metadata": {},
   "outputs": [
    {
     "data": {
      "text/html": [
       "<div>\n",
       "<style scoped>\n",
       "    .dataframe tbody tr th:only-of-type {\n",
       "        vertical-align: middle;\n",
       "    }\n",
       "\n",
       "    .dataframe tbody tr th {\n",
       "        vertical-align: top;\n",
       "    }\n",
       "\n",
       "    .dataframe thead th {\n",
       "        text-align: right;\n",
       "    }\n",
       "</style>\n",
       "<table border=\"1\" class=\"dataframe\">\n",
       "  <thead>\n",
       "    <tr style=\"text-align: right;\">\n",
       "      <th></th>\n",
       "      <th>year</th>\n",
       "      <th>age</th>\n",
       "      <th>passing_rate</th>\n",
       "      <th>next_year_passing_rate</th>\n",
       "    </tr>\n",
       "  </thead>\n",
       "  <tbody>\n",
       "    <tr>\n",
       "      <th>0</th>\n",
       "      <td>2006</td>\n",
       "      <td>1</td>\n",
       "      <td>95.9</td>\n",
       "      <td>95.081967</td>\n",
       "    </tr>\n",
       "    <tr>\n",
       "      <th>1</th>\n",
       "      <td>2006</td>\n",
       "      <td>2</td>\n",
       "      <td>93.8</td>\n",
       "      <td>93.954486</td>\n",
       "    </tr>\n",
       "    <tr>\n",
       "      <th>2</th>\n",
       "      <td>2006</td>\n",
       "      <td>3</td>\n",
       "      <td>92.8</td>\n",
       "      <td>94.100719</td>\n",
       "    </tr>\n",
       "    <tr>\n",
       "      <th>3</th>\n",
       "      <td>2006</td>\n",
       "      <td>4</td>\n",
       "      <td>93.6</td>\n",
       "      <td>94.135310</td>\n",
       "    </tr>\n",
       "    <tr>\n",
       "      <th>4</th>\n",
       "      <td>2006</td>\n",
       "      <td>5</td>\n",
       "      <td>92.1</td>\n",
       "      <td>93.292835</td>\n",
       "    </tr>\n",
       "  </tbody>\n",
       "</table>\n",
       "</div>"
      ],
      "text/plain": [
       "   year age  passing_rate  next_year_passing_rate\n",
       "0  2006   1          95.9               95.081967\n",
       "1  2006   2          93.8               93.954486\n",
       "2  2006   3          92.8               94.100719\n",
       "3  2006   4          93.6               94.135310\n",
       "4  2006   5          92.1               93.292835"
      ]
     },
     "execution_count": 12,
     "metadata": {},
     "output_type": "execute_result"
    }
   ],
   "source": [
    "qn1_task2.head()"
   ]
  },
  {
   "cell_type": "markdown",
   "id": "d0508670",
   "metadata": {},
   "source": [
    "Perform encoding of Age column"
   ]
  },
  {
   "cell_type": "code",
   "execution_count": 13,
   "id": "96bca839",
   "metadata": {},
   "outputs": [],
   "source": [
    "qn1_task2['age'] = qn1_task2['age'].astype(\"category\")\n",
    "qn1_task2_dummy = pd.get_dummies(qn1_task2)"
   ]
  },
  {
   "cell_type": "markdown",
   "id": "a13618ac",
   "metadata": {},
   "source": [
    "Construct train test split"
   ]
  },
  {
   "cell_type": "code",
   "execution_count": 24,
   "id": "35c46d19",
   "metadata": {},
   "outputs": [],
   "source": [
    "X, y = qn1_task2_dummy.drop(columns=['year', 'next_year_passing_rate']), qn1_task2_dummy['next_year_passing_rate']\n",
    "X_train, X_test, y_train, y_test = train_test_split(X, y, test_size=0.4, random_state=123)"
   ]
  },
  {
   "cell_type": "markdown",
   "id": "d4a3aef6",
   "metadata": {},
   "source": [
    "Scale the input columns and output"
   ]
  },
  {
   "cell_type": "code",
   "execution_count": 25,
   "id": "5bfc86d8",
   "metadata": {},
   "outputs": [],
   "source": [
    "feature_scaler = MinMaxScaler()\n",
    "X_train = feature_scaler.fit_transform(X_train)\n",
    "X_test = feature_scaler.transform(X_test)\n",
    "target_scaler = MinMaxScaler()\n",
    "y_train = target_scaler.fit_transform(np.array(y_train).reshape(-1,1))\n",
    "y_test = target_scaler.transform(np.array(y_test).reshape(-1,1))"
   ]
  },
  {
   "cell_type": "markdown",
   "id": "243e3af9",
   "metadata": {},
   "source": [
    "Initialise model and cross validate on 3 folds"
   ]
  },
  {
   "cell_type": "code",
   "execution_count": 53,
   "id": "0230d93e",
   "metadata": {},
   "outputs": [],
   "source": [
    "model = LinearRegression()\n",
    "folds = KFold(n_splits = 3, shuffle = True, random_state = 43)\n",
    "scores = cross_validate(model, X_train, y_train, scoring=['r2', 'neg_mean_squared_error'], cv=folds)"
   ]
  },
  {
   "cell_type": "code",
   "execution_count": 54,
   "id": "32d179f5",
   "metadata": {},
   "outputs": [
    {
     "data": {
      "text/plain": [
       "{'fit_time': array([0.00231814, 0.00106597, 0.00128412]),\n",
       " 'score_time': array([0.00136495, 0.00079799, 0.00112891]),\n",
       " 'test_r2': array([-2.83759990e-01,  1.72827291e-02, -3.11506860e+01]),\n",
       " 'test_neg_mean_squared_error': array([-0.07788434, -0.05544759, -1.78053069])}"
      ]
     },
     "execution_count": 54,
     "metadata": {},
     "output_type": "execute_result"
    }
   ],
   "source": [
    "scores"
   ]
  },
  {
   "cell_type": "code",
   "execution_count": 55,
   "id": "555cf8d3",
   "metadata": {},
   "outputs": [],
   "source": [
    "model.fit(X_train, y_train)\n",
    "y_pred = model.predict(X_test)"
   ]
  },
  {
   "cell_type": "markdown",
   "id": "7a884cae",
   "metadata": {},
   "source": [
    "Model performance on holdout set"
   ]
  },
  {
   "cell_type": "code",
   "execution_count": 56,
   "id": "18cde00d",
   "metadata": {},
   "outputs": [
    {
     "name": "stdout",
     "output_type": "stream",
     "text": [
      "\n",
      "Mean squared error: 0.07\n",
      "Coefficient of determination: -0.51\n"
     ]
    }
   ],
   "source": [
    "print(\"\\nMean squared error: %.2f\" % mean_squared_error(y_test, y_pred))\n",
    "print(\"Coefficient of determination: %.2f\" % r2_score(y_test, y_pred))"
   ]
  },
  {
   "cell_type": "markdown",
   "id": "432e5bf6",
   "metadata": {},
   "source": [
    "Train the model on the **entire 2006 to 2016 dataset** and format answer to the question."
   ]
  },
  {
   "cell_type": "code",
   "execution_count": 62,
   "id": "d1158a19",
   "metadata": {},
   "outputs": [
    {
     "data": {
      "text/plain": [
       "LinearRegression()"
      ]
     },
     "execution_count": 62,
     "metadata": {},
     "output_type": "execute_result"
    }
   ],
   "source": [
    "model = LinearRegression()\n",
    "feature_scaler = MinMaxScaler()\n",
    "X_full = feature_scaler.fit_transform(X)\n",
    "target_scaler = MinMaxScaler()\n",
    "y_full = target_scaler.fit_transform(np.array(y).reshape(-1,1))\n",
    "model.fit(X_full, y_full)"
   ]
  },
  {
   "cell_type": "code",
   "execution_count": 63,
   "id": "40bdac2f",
   "metadata": {},
   "outputs": [],
   "source": [
    "answer_X = qn1_data[qn1_data['year']==2017][['age', 'passing_rate']]\n",
    "answer_X['age'] = answer_X['age'].astype('category')\n",
    "answer_X = pd.get_dummies(answer_X)\n",
    "answer_X = feature_scaler.transform(answer_X)\n",
    "estimated_passing = target_scaler.inverse_transform(model.predict(answer_X))"
   ]
  },
  {
   "cell_type": "code",
   "execution_count": 64,
   "id": "d439e7eb",
   "metadata": {},
   "outputs": [],
   "source": [
    "temp_df = pd.DataFrame(answer_X, columns=X.columns)\n",
    "qn1_task2_answer = pd.DataFrame()\n",
    "qn1_task2_answer['age'] = temp_df[['age_1', 'age_10', 'age_2', 'age_3', 'age_4', 'age_5',\n",
    "       'age_6', 'age_7', 'age_8', 'age_9', 'age_>10']].idxmax(axis=1)\n",
    "qn1_task2_answer['age'] = qn1_task2_answer['age'].apply(lambda x: x.replace('age_',''))\n",
    "qn1_task2_answer['estimated_passing_rate_2018'] = estimated_passing"
   ]
  },
  {
   "cell_type": "code",
   "execution_count": 65,
   "id": "2cbd1f5c",
   "metadata": {},
   "outputs": [
    {
     "name": "stdout",
     "output_type": "stream",
     "text": [
      "Estimated passing rate next year - 2018:\n"
     ]
    },
    {
     "data": {
      "text/html": [
       "<div>\n",
       "<style scoped>\n",
       "    .dataframe tbody tr th:only-of-type {\n",
       "        vertical-align: middle;\n",
       "    }\n",
       "\n",
       "    .dataframe tbody tr th {\n",
       "        vertical-align: top;\n",
       "    }\n",
       "\n",
       "    .dataframe thead th {\n",
       "        text-align: right;\n",
       "    }\n",
       "</style>\n",
       "<table border=\"1\" class=\"dataframe\">\n",
       "  <thead>\n",
       "    <tr style=\"text-align: right;\">\n",
       "      <th></th>\n",
       "      <th>age</th>\n",
       "      <th>estimated_passing_rate_2018</th>\n",
       "    </tr>\n",
       "  </thead>\n",
       "  <tbody>\n",
       "    <tr>\n",
       "      <th>0</th>\n",
       "      <td>1</td>\n",
       "      <td>95.540096</td>\n",
       "    </tr>\n",
       "    <tr>\n",
       "      <th>1</th>\n",
       "      <td>2</td>\n",
       "      <td>93.354100</td>\n",
       "    </tr>\n",
       "    <tr>\n",
       "      <th>2</th>\n",
       "      <td>3</td>\n",
       "      <td>93.549278</td>\n",
       "    </tr>\n",
       "    <tr>\n",
       "      <th>3</th>\n",
       "      <td>4</td>\n",
       "      <td>93.549278</td>\n",
       "    </tr>\n",
       "    <tr>\n",
       "      <th>4</th>\n",
       "      <td>5</td>\n",
       "      <td>93.549278</td>\n",
       "    </tr>\n",
       "    <tr>\n",
       "      <th>5</th>\n",
       "      <td>6</td>\n",
       "      <td>93.549278</td>\n",
       "    </tr>\n",
       "    <tr>\n",
       "      <th>6</th>\n",
       "      <td>7</td>\n",
       "      <td>93.471207</td>\n",
       "    </tr>\n",
       "    <tr>\n",
       "      <th>7</th>\n",
       "      <td>8</td>\n",
       "      <td>93.510242</td>\n",
       "    </tr>\n",
       "    <tr>\n",
       "      <th>8</th>\n",
       "      <td>9</td>\n",
       "      <td>93.588314</td>\n",
       "    </tr>\n",
       "    <tr>\n",
       "      <th>9</th>\n",
       "      <td>10</td>\n",
       "      <td>92.690493</td>\n",
       "    </tr>\n",
       "    <tr>\n",
       "      <th>10</th>\n",
       "      <td>&gt;10</td>\n",
       "      <td>92.573386</td>\n",
       "    </tr>\n",
       "  </tbody>\n",
       "</table>\n",
       "</div>"
      ],
      "text/plain": [
       "    age  estimated_passing_rate_2018\n",
       "0     1                    95.540096\n",
       "1     2                    93.354100\n",
       "2     3                    93.549278\n",
       "3     4                    93.549278\n",
       "4     5                    93.549278\n",
       "5     6                    93.549278\n",
       "6     7                    93.471207\n",
       "7     8                    93.510242\n",
       "8     9                    93.588314\n",
       "9    10                    92.690493\n",
       "10  >10                    92.573386"
      ]
     },
     "execution_count": 65,
     "metadata": {},
     "output_type": "execute_result"
    }
   ],
   "source": [
    "print('Estimated passing rate next year - 2018:')\n",
    "qn1_task2_answer"
   ]
  },
  {
   "cell_type": "markdown",
   "id": "a1f852e5",
   "metadata": {},
   "source": [
    "## Task 3: Assuming your estimated rates are true, can you suggest a sensible range of possible passing ranges for motorcycles in the 5-year age group next year, with at least 95% possibility of including the actual passing rate? If you can come up with multiple ranges that meet this criteria, use the one with the narrowest range. You may assume the number of motorcycles is the same as the number in the 4-year age group in the previous year."
   ]
  },
  {
   "cell_type": "code",
   "execution_count": 85,
   "id": "3ed6206e",
   "metadata": {},
   "outputs": [],
   "source": [
    "# Compute prediction interval\n",
    "def predict_interval(X_train, y_train, X, model, target_scaler):\n",
    "    n = X_train.shape[0]\n",
    "    alpha = 0.05\n",
    "    t_stat = t.ppf(1-alpha/2, df=n-2)\n",
    "    \n",
    "    # Find training error\n",
    "    y_pred = model.predict(X_train)\n",
    "    # Calculate interval upper and lower boundaries\n",
    "    sum_errs = arraysum((y_train - y_pred)**2)\n",
    "    stdev = sqrt(1/(len(y_train)-2) * sum_errs)\n",
    "    interval = t_stat * stdev\n",
    "    \n",
    "    y_pred = model.predict(X)\n",
    "    lower = y_pred - interval\n",
    "    upper = y_pred + interval\n",
    "    y_pred = target_scaler.inverse_transform(y_pred)[0][0]\n",
    "    lower = target_scaler.inverse_transform(lower)[0][0]\n",
    "    upper = target_scaler.inverse_transform(upper)[0][0]\n",
    "    \n",
    "    return lower, upper, y_pred"
   ]
  },
  {
   "cell_type": "code",
   "execution_count": 78,
   "id": "dc053b08",
   "metadata": {},
   "outputs": [],
   "source": [
    "# Retain only 4-year age group in 2017 dataset\n",
    "qn1_task3_data = qn1_data[qn1_data['year']==2017][['age', 'passing_rate']]\n",
    "qn1_task3_data['age'] = qn1_task3_data['age'].astype('category')\n",
    "qn1_task3_data = pd.get_dummies(qn1_task3_data)\n",
    "qn1_task3_data = qn1_task3_data[qn1_task3_data['age_4']==1]\n",
    "qn1_task3_data = feature_scaler.transform(qn1_task3_data)"
   ]
  },
  {
   "cell_type": "code",
   "execution_count": 86,
   "id": "fbb64b88",
   "metadata": {},
   "outputs": [],
   "source": [
    "qn1_task_3_answer = predict_interval(X_full, y_full, qn1_task3_data, model, target_scaler)"
   ]
  },
  {
   "cell_type": "code",
   "execution_count": 89,
   "id": "63a2beb0",
   "metadata": {},
   "outputs": [
    {
     "name": "stdout",
     "output_type": "stream",
     "text": [
      "The range of possible passing ranges for motorcycles in the 5-year age group in 2018 (95% sig level) is:\n",
      "Lower Boundary: 89.1154563917162\n",
      "Upper Boundary: 97.98309937789318\n",
      "Predicted Value: 93.54927788480468\n"
     ]
    }
   ],
   "source": [
    "print('The range of possible passing ranges for motorcycles in the 5-year age group in 2018 (95% sig level) is:\\n' \\\n",
    "     f'Lower Boundary: {qn1_task_3_answer[0]}\\n' \\\n",
    "     f'Upper Boundary: {qn1_task_3_answer[1]}\\n' \\\n",
    "     f'Predicted Value: {qn1_task_3_answer[2]}')"
   ]
  },
  {
   "cell_type": "markdown",
   "id": "ce6da09f",
   "metadata": {},
   "source": [
    "---"
   ]
  },
  {
   "cell_type": "markdown",
   "id": "7d52231d",
   "metadata": {},
   "source": [
    "# Question 2 (Association)"
   ]
  },
  {
   "cell_type": "code",
   "execution_count": 2,
   "id": "5235963e",
   "metadata": {},
   "outputs": [
    {
     "name": "stderr",
     "output_type": "stream",
     "text": [
      "/var/folders/wx/6glkypnn5pd_cjs1cdkt0v6m0000gn/T/ipykernel_12066/1604338329.py:1: DtypeWarning: Columns (7) have mixed types. Specify dtype option on import or set low_memory=False.\n",
      "  qn2_data = pd.read_csv('data/cea-salesperson-residential-transaction-record/' \\\n"
     ]
    }
   ],
   "source": [
    "qn2_data = pd.read_csv('data/cea-salesperson-residential-transaction-record/' \\\n",
    "                       'cea-salespersons-property-transaction-records-residential.csv')"
   ]
  },
  {
   "cell_type": "code",
   "execution_count": 3,
   "id": "b55e9a72",
   "metadata": {},
   "outputs": [
    {
     "name": "stdout",
     "output_type": "stream",
     "text": [
      "represented unique values: ['BUYER' 'SELLER' 'LANDLORD' 'TENANT']\n",
      "property_type unique values: ['HDB' 'CONDOMINIUM_APARTMENTS' 'STRATA_LANDED' 'LANDED'\n",
      " 'EXECUTIVE_CONDOMINIUM']\n",
      "transaction_type unique values: ['RESALE' 'WHOLE RENTAL' 'ROOM RENTAL' 'NEW SALE' 'SUB-SALE']\n"
     ]
    }
   ],
   "source": [
    "print('represented unique values:', qn2_data['represented'].unique())\n",
    "print('property_type unique values:', qn2_data['property_type'].unique())\n",
    "print('transaction_type unique values:', qn2_data['transaction_type'].unique())"
   ]
  },
  {
   "cell_type": "code",
   "execution_count": 4,
   "id": "862381af",
   "metadata": {},
   "outputs": [],
   "source": [
    "# Focus on HDB resale transaction where agent represented seller\n",
    "qn2_data = qn2_data[(qn2_data['represented']=='SELLER') & (qn2_data['property_type']=='HDB') & (qn2_data['transaction_type']=='RESALE')]"
   ]
  },
  {
   "cell_type": "code",
   "execution_count": 5,
   "id": "68010bcd",
   "metadata": {},
   "outputs": [
    {
     "data": {
      "text/plain": [
       "(140969, 9)"
      ]
     },
     "execution_count": 5,
     "metadata": {},
     "output_type": "execute_result"
    }
   ],
   "source": [
    "qn2_data.shape"
   ]
  },
  {
   "cell_type": "code",
   "execution_count": 6,
   "id": "7d761947",
   "metadata": {},
   "outputs": [
    {
     "data": {
      "text/html": [
       "<div>\n",
       "<style scoped>\n",
       "    .dataframe tbody tr th:only-of-type {\n",
       "        vertical-align: middle;\n",
       "    }\n",
       "\n",
       "    .dataframe tbody tr th {\n",
       "        vertical-align: top;\n",
       "    }\n",
       "\n",
       "    .dataframe thead th {\n",
       "        text-align: right;\n",
       "    }\n",
       "</style>\n",
       "<table border=\"1\" class=\"dataframe\">\n",
       "  <thead>\n",
       "    <tr style=\"text-align: right;\">\n",
       "      <th></th>\n",
       "      <th>salesperson_name</th>\n",
       "      <th>transaction_date</th>\n",
       "      <th>salesperson_reg_num</th>\n",
       "      <th>property_type</th>\n",
       "      <th>transaction_type</th>\n",
       "      <th>represented</th>\n",
       "      <th>town</th>\n",
       "      <th>district</th>\n",
       "      <th>general_location</th>\n",
       "    </tr>\n",
       "  </thead>\n",
       "  <tbody>\n",
       "    <tr>\n",
       "      <th>1</th>\n",
       "      <td>LIM JOO HENG</td>\n",
       "      <td>AUG-2018</td>\n",
       "      <td>R011043H</td>\n",
       "      <td>HDB</td>\n",
       "      <td>RESALE</td>\n",
       "      <td>SELLER</td>\n",
       "      <td>BUKIT PANJANG</td>\n",
       "      <td>-</td>\n",
       "      <td>-</td>\n",
       "    </tr>\n",
       "    <tr>\n",
       "      <th>2</th>\n",
       "      <td>WONG TSU HAW</td>\n",
       "      <td>MAY-2017</td>\n",
       "      <td>R045055G</td>\n",
       "      <td>HDB</td>\n",
       "      <td>RESALE</td>\n",
       "      <td>SELLER</td>\n",
       "      <td>BUKIT PANJANG</td>\n",
       "      <td>-</td>\n",
       "      <td>-</td>\n",
       "    </tr>\n",
       "    <tr>\n",
       "      <th>3</th>\n",
       "      <td>TAY BEE KIAT</td>\n",
       "      <td>JUL-2018</td>\n",
       "      <td>R056733J</td>\n",
       "      <td>HDB</td>\n",
       "      <td>RESALE</td>\n",
       "      <td>SELLER</td>\n",
       "      <td>BUKIT PANJANG</td>\n",
       "      <td>-</td>\n",
       "      <td>-</td>\n",
       "    </tr>\n",
       "    <tr>\n",
       "      <th>5</th>\n",
       "      <td>BAI YIXIANG KEVIN</td>\n",
       "      <td>JAN-2017</td>\n",
       "      <td>R041704E</td>\n",
       "      <td>HDB</td>\n",
       "      <td>RESALE</td>\n",
       "      <td>SELLER</td>\n",
       "      <td>SENGKANG</td>\n",
       "      <td>-</td>\n",
       "      <td>-</td>\n",
       "    </tr>\n",
       "    <tr>\n",
       "      <th>7</th>\n",
       "      <td>CHEONG POH YENG</td>\n",
       "      <td>MAY-2017</td>\n",
       "      <td>R052220E</td>\n",
       "      <td>HDB</td>\n",
       "      <td>RESALE</td>\n",
       "      <td>SELLER</td>\n",
       "      <td>SENGKANG</td>\n",
       "      <td>-</td>\n",
       "      <td>-</td>\n",
       "    </tr>\n",
       "  </tbody>\n",
       "</table>\n",
       "</div>"
      ],
      "text/plain": [
       "    salesperson_name transaction_date salesperson_reg_num property_type  \\\n",
       "1       LIM JOO HENG         AUG-2018            R011043H           HDB   \n",
       "2       WONG TSU HAW         MAY-2017            R045055G           HDB   \n",
       "3       TAY BEE KIAT         JUL-2018            R056733J           HDB   \n",
       "5  BAI YIXIANG KEVIN         JAN-2017            R041704E           HDB   \n",
       "7    CHEONG POH YENG         MAY-2017            R052220E           HDB   \n",
       "\n",
       "  transaction_type represented           town district general_location  \n",
       "1           RESALE      SELLER  BUKIT PANJANG        -                -  \n",
       "2           RESALE      SELLER  BUKIT PANJANG        -                -  \n",
       "3           RESALE      SELLER  BUKIT PANJANG        -                -  \n",
       "5           RESALE      SELLER       SENGKANG        -                -  \n",
       "7           RESALE      SELLER       SENGKANG        -                -  "
      ]
     },
     "execution_count": 6,
     "metadata": {},
     "output_type": "execute_result"
    }
   ],
   "source": [
    "qn2_data.head()"
   ]
  },
  {
   "cell_type": "markdown",
   "id": "ff8f141f",
   "metadata": {},
   "source": [
    "## **Task 1:** Based on the dataset, how many sales would you expect an agent to close each year? How much variation is there among agents? \n",
    "*Candidate's note: There are 3 ways in which we can compute the average sales. After aggregating number of sales closed by agent and year, we can:* \\\n",
    "*1. Treat each row as individual agents and simply average across all rows for the `sales` column* \\\n",
    "*2. Find the average `sales` by year, then average the averages of each year* \\\n",
    "*3. Find the average `sales` by agent registration number across their years of sales, then average the averages of each agent* \\\n",
    "*Candidate's assumption: For simplicity sake, we choose method 1 so that in Task 2 each observation is discrete.*"
   ]
  },
  {
   "cell_type": "code",
   "execution_count": 7,
   "id": "6f4383cc",
   "metadata": {},
   "outputs": [
    {
     "name": "stderr",
     "output_type": "stream",
     "text": [
      "/var/folders/wx/6glkypnn5pd_cjs1cdkt0v6m0000gn/T/ipykernel_12066/1253372095.py:2: SettingWithCopyWarning: \n",
      "A value is trying to be set on a copy of a slice from a DataFrame.\n",
      "Try using .loc[row_indexer,col_indexer] = value instead\n",
      "\n",
      "See the caveats in the documentation: https://pandas.pydata.org/pandas-docs/stable/user_guide/indexing.html#returning-a-view-versus-a-copy\n",
      "  qn2_task1['year'] = qn2_task1['transaction_date'].apply(lambda x: x.split('-')[-1])\n"
     ]
    }
   ],
   "source": [
    "qn2_task1 = qn2_data[['salesperson_reg_num', 'transaction_date']]\n",
    "qn2_task1['year'] = qn2_task1['transaction_date'].apply(lambda x: x.split('-')[-1])"
   ]
  },
  {
   "cell_type": "code",
   "execution_count": 8,
   "id": "c463230c",
   "metadata": {},
   "outputs": [
    {
     "data": {
      "text/plain": [
       "array(['2018', '2017', '2019', '2020', '2021', '2022', '2023'],\n",
       "      dtype=object)"
      ]
     },
     "execution_count": 8,
     "metadata": {},
     "output_type": "execute_result"
    }
   ],
   "source": [
    "qn2_task1['year'].unique()"
   ]
  },
  {
   "cell_type": "code",
   "execution_count": 9,
   "id": "e336cce8",
   "metadata": {},
   "outputs": [
    {
     "data": {
      "text/html": [
       "<div>\n",
       "<style scoped>\n",
       "    .dataframe tbody tr th:only-of-type {\n",
       "        vertical-align: middle;\n",
       "    }\n",
       "\n",
       "    .dataframe tbody tr th {\n",
       "        vertical-align: top;\n",
       "    }\n",
       "\n",
       "    .dataframe thead th {\n",
       "        text-align: right;\n",
       "    }\n",
       "</style>\n",
       "<table border=\"1\" class=\"dataframe\">\n",
       "  <thead>\n",
       "    <tr style=\"text-align: right;\">\n",
       "      <th></th>\n",
       "      <th></th>\n",
       "      <th>sales</th>\n",
       "    </tr>\n",
       "    <tr>\n",
       "      <th>salesperson_reg_num</th>\n",
       "      <th>year</th>\n",
       "      <th></th>\n",
       "    </tr>\n",
       "  </thead>\n",
       "  <tbody>\n",
       "    <tr>\n",
       "      <th rowspan=\"3\" valign=\"top\">P000001B</th>\n",
       "      <th>2018</th>\n",
       "      <td>1</td>\n",
       "    </tr>\n",
       "    <tr>\n",
       "      <th>2019</th>\n",
       "      <td>1</td>\n",
       "    </tr>\n",
       "    <tr>\n",
       "      <th>2021</th>\n",
       "      <td>1</td>\n",
       "    </tr>\n",
       "    <tr>\n",
       "      <th rowspan=\"2\" valign=\"top\">P000003I</th>\n",
       "      <th>2017</th>\n",
       "      <td>2</td>\n",
       "    </tr>\n",
       "    <tr>\n",
       "      <th>2018</th>\n",
       "      <td>3</td>\n",
       "    </tr>\n",
       "    <tr>\n",
       "      <th>...</th>\n",
       "      <th>...</th>\n",
       "      <td>...</td>\n",
       "    </tr>\n",
       "    <tr>\n",
       "      <th>R067053H</th>\n",
       "      <th>2023</th>\n",
       "      <td>1</td>\n",
       "    </tr>\n",
       "    <tr>\n",
       "      <th>R067134H</th>\n",
       "      <th>2023</th>\n",
       "      <td>1</td>\n",
       "    </tr>\n",
       "    <tr>\n",
       "      <th>R067188I</th>\n",
       "      <th>2023</th>\n",
       "      <td>1</td>\n",
       "    </tr>\n",
       "    <tr>\n",
       "      <th>R067232I</th>\n",
       "      <th>2023</th>\n",
       "      <td>1</td>\n",
       "    </tr>\n",
       "    <tr>\n",
       "      <th>R067264B</th>\n",
       "      <th>2023</th>\n",
       "      <td>1</td>\n",
       "    </tr>\n",
       "  </tbody>\n",
       "</table>\n",
       "<p>48912 rows × 1 columns</p>\n",
       "</div>"
      ],
      "text/plain": [
       "                          sales\n",
       "salesperson_reg_num year       \n",
       "P000001B            2018      1\n",
       "                    2019      1\n",
       "                    2021      1\n",
       "P000003I            2017      2\n",
       "                    2018      3\n",
       "...                         ...\n",
       "R067053H            2023      1\n",
       "R067134H            2023      1\n",
       "R067188I            2023      1\n",
       "R067232I            2023      1\n",
       "R067264B            2023      1\n",
       "\n",
       "[48912 rows x 1 columns]"
      ]
     },
     "execution_count": 9,
     "metadata": {},
     "output_type": "execute_result"
    }
   ],
   "source": [
    "qn2_task1_agg_by_agent_and_year = pd.DataFrame(qn2_task1.groupby(['salesperson_reg_num', 'year'])['year'].count())\n",
    "qn2_task1_agg_by_agent_and_year.columns=['sales']\n",
    "qn2_task1_agg_by_agent_and_year"
   ]
  },
  {
   "cell_type": "code",
   "execution_count": 10,
   "id": "250e5f11",
   "metadata": {},
   "outputs": [
    {
     "name": "stdout",
     "output_type": "stream",
     "text": [
      "An agent is expected to close 2.88 sales each year.\n"
     ]
    }
   ],
   "source": [
    "# Method 1 computation\n",
    "expected_sales = round(qn2_task1_agg_by_agent_and_year['sales'].mean(),2)\n",
    "print(f'An agent is expected to close {expected_sales} sales each year.')"
   ]
  },
  {
   "cell_type": "code",
   "execution_count": 11,
   "id": "3e1a4adc",
   "metadata": {},
   "outputs": [],
   "source": [
    "def calc_sd_var(data, mean):\n",
    "    # Alternatively use .std() and .var() methods\n",
    "    var = sum([(x-mean)**2 for x in data]) / len(data)\n",
    "    sd = var**(0.5)\n",
    "    \n",
    "    return round(var,2), round(sd,2)"
   ]
  },
  {
   "cell_type": "code",
   "execution_count": 12,
   "id": "50e98a00",
   "metadata": {},
   "outputs": [
    {
     "name": "stdout",
     "output_type": "stream",
     "text": [
      "The variance is 25.08 and standard deviation is 5.01 among the agents.\n"
     ]
    }
   ],
   "source": [
    "data_var, data_std = calc_sd_var(qn2_task1_agg_by_agent_and_year['sales'], expected_sales)\n",
    "print(f'The variance is {data_var} and standard deviation is {data_std} among the agents.')"
   ]
  },
  {
   "cell_type": "markdown",
   "id": "8606f62c",
   "metadata": {},
   "source": [
    "## **Task 2:** Examine the distribution for number of sales closed by an agent in a year & suggest a probability distribution that may be suitable for modelling this set of values. What are some ways in which your suggested distribution is appropriate? What are some of its limitations?"
   ]
  },
  {
   "cell_type": "code",
   "execution_count": 13,
   "id": "ea6e2cda",
   "metadata": {},
   "outputs": [],
   "source": [
    "sales_distribution = qn2_task1_agg_by_agent_and_year['sales'].values"
   ]
  },
  {
   "cell_type": "code",
   "execution_count": 16,
   "id": "70dd4b34",
   "metadata": {},
   "outputs": [
    {
     "data": {
      "text/plain": [
       "(array([4.783e+04, 7.810e+02, 1.930e+02, 5.200e+01, 2.100e+01, 1.300e+01,\n",
       "        5.000e+00, 6.000e+00, 0.000e+00, 1.000e+00, 1.000e+00, 1.000e+00,\n",
       "        0.000e+00, 3.000e+00, 2.000e+00, 1.000e+00, 1.000e+00, 1.000e+00]),\n",
       " array([  1.        ,  13.77777778,  26.55555556,  39.33333333,\n",
       "         52.11111111,  64.88888889,  77.66666667,  90.44444444,\n",
       "        103.22222222, 116.        , 128.77777778, 141.55555556,\n",
       "        154.33333333, 167.11111111, 179.88888889, 192.66666667,\n",
       "        205.44444444, 218.22222222, 231.        ]),\n",
       " <BarContainer object of 18 artists>)"
      ]
     },
     "execution_count": 16,
     "metadata": {},
     "output_type": "execute_result"
    },
    {
     "data": {
      "image/png": "[encoded data removed]",
      "text/plain": [
       "<Figure size 640x480 with 1 Axes>"
      ]
     },
     "metadata": {},
     "output_type": "display_data"
    }
   ],
   "source": [
    "plt.hist(sales_distribution, bins = int(180/10))"
   ]
  },
  {
   "cell_type": "code",
   "execution_count": 17,
   "id": "17ec9b5f",
   "metadata": {},
   "outputs": [
    {
     "data": {
      "text/plain": [
       "(array([2.3742e+04, 0.0000e+00, 9.8740e+03, 5.2700e+03, 3.0260e+03,\n",
       "        3.0810e+03, 1.4440e+03, 1.0760e+03, 5.7100e+02, 3.4700e+02,\n",
       "        1.9700e+02, 1.5000e+02, 7.3000e+01, 3.0000e+01, 1.6000e+01,\n",
       "        5.0000e+00, 4.0000e+00, 6.0000e+00]),\n",
       " array([0.        , 0.30235654, 0.60471308, 0.90706962, 1.20942616,\n",
       "        1.5117827 , 1.81413924, 2.11649578, 2.41885232, 2.72120886,\n",
       "        3.02356539, 3.32592193, 3.62827847, 3.93063501, 4.23299155,\n",
       "        4.53534809, 4.83770463, 5.14006117, 5.44241771]),\n",
       " <BarContainer object of 18 artists>)"
      ]
     },
     "execution_count": 17,
     "metadata": {},
     "output_type": "execute_result"
    },
    {
     "data": {
      "image/png": "[encoded data removed]",
      "text/plain": [
       "<Figure size 640x480 with 1 Axes>"
      ]
     },
     "metadata": {},
     "output_type": "display_data"
    }
   ],
   "source": [
    "# Since it is a skewed dataset, we do a plot of the log values\n",
    "plt.hist(np.log(sales_distribution), bins = int(180/10))"
   ]
  },
  {
   "cell_type": "code",
   "execution_count": 18,
   "id": "33cd56f1",
   "metadata": {},
   "outputs": [
    {
     "data": {
      "image/png": "[encoded data removed]",
      "text/plain": [
       "<Figure size 640x480 with 1 Axes>"
      ]
     },
     "metadata": {},
     "output_type": "display_data"
    }
   ],
   "source": [
    "# Plot PMF of Poisson (Mu = Expected Sales)\n",
    "sales_ranges = np.arange(sales_distribution.min(), sales_distribution.max(), 1)\n",
    "prob_val = poisson.pmf(k=sales_ranges, mu=expected_sales)\n",
    "plt.plot(sales_ranges, prob_val)\n",
    "plt.show()"
   ]
  },
  {
   "cell_type": "markdown",
   "id": "98b71a4e",
   "metadata": {},
   "source": [
    "We notice that the Poisson distribution plotted above looks similar to that of our HDB Resale sales distribution plot."
   ]
  },
  {
   "cell_type": "markdown",
   "id": "f84511b2",
   "metadata": {},
   "source": [
    "I would go with Poisson distribution to model this set of values for a start. The reasons are as follow:\n",
    "- Number of sales closures each year is discrete.\n",
    "- Poisson distribution estimation is done within a given interval of time or space, in our case will be within a year.\n",
    "- Poisson distribution only requires 1 parameter, lambda, which is the mean of sales."
   ]
  },
  {
   "cell_type": "markdown",
   "id": "8ec81b3b",
   "metadata": {},
   "source": [
    "Some limitations are as follow:\n",
    "- Given the condition of poisson distribution is that all events are independent, it might difficult to ensure so (i.e. agent referral). However, given HDB restrictions such as every customer can only own 1 HDB and there are no showroom events like Condominium does, it greatly reduces the likelihood of sales being dependent. Similarly, some agent might be more skilled than the other, which result in higher probability of HDB resales closed.\n",
    "- Assumption that the average rate of sales does not change during the period of interest -> This might not hold across the years due to events and change in seasonalities (e.g. a change in goverment housing policies which might affect home purchasing decisions or economic downturn). On top of that, the rate differs among agents as well."
   ]
  },
  {
   "cell_type": "markdown",
   "id": "e794b1a3",
   "metadata": {},
   "source": [
    "Furthermore, since the variance is larger than the mean (25.08 > 2.88), there is over-dispersion which violates the assumption of Poisson distribution (variance = mean). There are other issues such as omission of zero values (i.e. agents who did not close any sales) and attributes/features of individual agents which might lead to a higher probability of closing a sale. Hence, depending on the end use case and availability of supplementary data, we can adopt more suitable models such as mixed Poisson (negative binomial) and zero-inflated models."
   ]
  },
  {
   "cell_type": "markdown",
   "id": "fc43a538",
   "metadata": {},
   "source": [
    "## Task 3: Property agents tend to specialise in one or more specific geographical areas, rather than ply their trade equally island-wide. Given a property agent who has closed sales in Sembawang and Yishun during a given year, which other town is he/she most likely to be active in that year? (Note: you may wish to use association rules for this task.)"
   ]
  },
  {
   "cell_type": "code",
   "execution_count": 33,
   "id": "b2319320",
   "metadata": {},
   "outputs": [],
   "source": [
    "# Create geographical area dataset as records\n",
    "qn2_task3 = qn2_data.copy()\n",
    "qn2_task3['year'] = qn2_task3['transaction_date'].apply(lambda x: x.split('-')[-1])\n",
    "qn2_task3 = qn2_task3[['salesperson_reg_num', 'year', 'town']].drop_duplicates()\n",
    "qn2_task3 = qn2_task3.groupby(['salesperson_reg_num', 'year'])['town'].apply(list).reset_index()"
   ]
  },
  {
   "cell_type": "code",
   "execution_count": 35,
   "id": "33d32d0b",
   "metadata": {},
   "outputs": [
    {
     "data": {
      "text/html": [
       "<div>\n",
       "<style scoped>\n",
       "    .dataframe tbody tr th:only-of-type {\n",
       "        vertical-align: middle;\n",
       "    }\n",
       "\n",
       "    .dataframe tbody tr th {\n",
       "        vertical-align: top;\n",
       "    }\n",
       "\n",
       "    .dataframe thead th {\n",
       "        text-align: right;\n",
       "    }\n",
       "</style>\n",
       "<table border=\"1\" class=\"dataframe\">\n",
       "  <thead>\n",
       "    <tr style=\"text-align: right;\">\n",
       "      <th></th>\n",
       "      <th>salesperson_reg_num</th>\n",
       "      <th>year</th>\n",
       "      <th>town</th>\n",
       "    </tr>\n",
       "  </thead>\n",
       "  <tbody>\n",
       "    <tr>\n",
       "      <th>0</th>\n",
       "      <td>P000001B</td>\n",
       "      <td>2018</td>\n",
       "      <td>[BEDOK]</td>\n",
       "    </tr>\n",
       "    <tr>\n",
       "      <th>1</th>\n",
       "      <td>P000001B</td>\n",
       "      <td>2019</td>\n",
       "      <td>[QUEENSTOWN]</td>\n",
       "    </tr>\n",
       "    <tr>\n",
       "      <th>2</th>\n",
       "      <td>P000001B</td>\n",
       "      <td>2021</td>\n",
       "      <td>[BEDOK]</td>\n",
       "    </tr>\n",
       "    <tr>\n",
       "      <th>3</th>\n",
       "      <td>P000003I</td>\n",
       "      <td>2017</td>\n",
       "      <td>[YISHUN, CHOA CHU KANG]</td>\n",
       "    </tr>\n",
       "    <tr>\n",
       "      <th>4</th>\n",
       "      <td>P000003I</td>\n",
       "      <td>2018</td>\n",
       "      <td>[CHOA CHU KANG, SEMBAWANG, JURONG WEST]</td>\n",
       "    </tr>\n",
       "  </tbody>\n",
       "</table>\n",
       "</div>"
      ],
      "text/plain": [
       "  salesperson_reg_num  year                                     town\n",
       "0            P000001B  2018                                  [BEDOK]\n",
       "1            P000001B  2019                             [QUEENSTOWN]\n",
       "2            P000001B  2021                                  [BEDOK]\n",
       "3            P000003I  2017                  [YISHUN, CHOA CHU KANG]\n",
       "4            P000003I  2018  [CHOA CHU KANG, SEMBAWANG, JURONG WEST]"
      ]
     },
     "execution_count": 35,
     "metadata": {},
     "output_type": "execute_result"
    }
   ],
   "source": [
    "qn2_task3.head()"
   ]
  },
  {
   "cell_type": "code",
   "execution_count": 37,
   "id": "ffd66bb5",
   "metadata": {},
   "outputs": [],
   "source": [
    "# Filter for agents who work in towns inclusive of sembawang and yishun -> Store the other towns they work in\n",
    "other_towns = []\n",
    "for idx, row in qn2_task3.iterrows():\n",
    "    if (('SEMBAWANG' in row['town']) & ('YISHUN' in row['town'])):\n",
    "        other_towns += [town for town in row['town'] if town not in ['SEMBAWANG', 'YISHUN']]"
   ]
  },
  {
   "cell_type": "code",
   "execution_count": 38,
   "id": "055e4340",
   "metadata": {},
   "outputs": [],
   "source": [
    "other_towns_freq = Counter(other_towns)\n",
    "other_towns_freq_df = pd.DataFrame({'Town': other_towns_freq.keys(), 'Freq': other_towns_freq.values()})\n",
    "other_towns_freq_df = other_towns_freq_df.sort_values(by='Freq', ascending=False)"
   ]
  },
  {
   "cell_type": "code",
   "execution_count": 39,
   "id": "29217b89",
   "metadata": {},
   "outputs": [
    {
     "data": {
      "text/html": [
       "<div>\n",
       "<style scoped>\n",
       "    .dataframe tbody tr th:only-of-type {\n",
       "        vertical-align: middle;\n",
       "    }\n",
       "\n",
       "    .dataframe tbody tr th {\n",
       "        vertical-align: top;\n",
       "    }\n",
       "\n",
       "    .dataframe thead th {\n",
       "        text-align: right;\n",
       "    }\n",
       "</style>\n",
       "<table border=\"1\" class=\"dataframe\">\n",
       "  <thead>\n",
       "    <tr style=\"text-align: right;\">\n",
       "      <th></th>\n",
       "      <th>Town</th>\n",
       "      <th>Freq</th>\n",
       "    </tr>\n",
       "  </thead>\n",
       "  <tbody>\n",
       "    <tr>\n",
       "      <th>13</th>\n",
       "      <td>WOODLANDS</td>\n",
       "      <td>416</td>\n",
       "    </tr>\n",
       "    <tr>\n",
       "      <th>8</th>\n",
       "      <td>SENGKANG</td>\n",
       "      <td>331</td>\n",
       "    </tr>\n",
       "    <tr>\n",
       "      <th>10</th>\n",
       "      <td>PUNGGOL</td>\n",
       "      <td>283</td>\n",
       "    </tr>\n",
       "    <tr>\n",
       "      <th>3</th>\n",
       "      <td>JURONG WEST</td>\n",
       "      <td>261</td>\n",
       "    </tr>\n",
       "    <tr>\n",
       "      <th>9</th>\n",
       "      <td>CHOA CHU KANG</td>\n",
       "      <td>257</td>\n",
       "    </tr>\n",
       "  </tbody>\n",
       "</table>\n",
       "</div>"
      ],
      "text/plain": [
       "             Town  Freq\n",
       "13      WOODLANDS   416\n",
       "8        SENGKANG   331\n",
       "10        PUNGGOL   283\n",
       "3     JURONG WEST   261\n",
       "9   CHOA CHU KANG   257"
      ]
     },
     "execution_count": 39,
     "metadata": {},
     "output_type": "execute_result"
    }
   ],
   "source": [
    "other_towns_freq_df.head()"
   ]
  },
  {
   "cell_type": "markdown",
   "id": "3505aaf0",
   "metadata": {},
   "source": [
    "This is akin to calculating confidence where confidence = `Support(Sembawang & Yishun & [Town])` / `Support(Sembawang & Yishun)`. \\\n",
    " \\\n",
    "Since `Support(Sembawang & Yishun)` is a constant, we only need to focus on `Support(Sembawang & Yishun & [Town])`. As `Support(Sembawang & Yishun & [Town])` is reliant on frequency, we can infer that `Support(Sembawang & Yishun & Woodlands)` will have the highest support => highest confidence. \\\n",
    " \\\n",
    "Therefore, given a property agent who has closed sales in Sembawang and Yishun during a given year, the other town he/she is most likely to be active in that year is **Woodlands**."
   ]
  },
  {
   "cell_type": "markdown",
   "id": "05234f27",
   "metadata": {},
   "source": [
    "---"
   ]
  },
  {
   "cell_type": "markdown",
   "id": "0ec1366c",
   "metadata": {},
   "source": [
    "# Question 3 (Classification)"
   ]
  },
  {
   "cell_type": "code",
   "execution_count": 142,
   "id": "e62c19bc",
   "metadata": {},
   "outputs": [],
   "source": [
    "qn3_data = geopandas.read_file('data/wireless-hotspots/' \\\n",
    "                       'wireless-hotspots-geojson.geojson')"
   ]
  },
  {
   "cell_type": "code",
   "execution_count": 143,
   "id": "27a954b4",
   "metadata": {},
   "outputs": [],
   "source": [
    "def parse_html(content):\n",
    "    df = pd.read_html(content)[0]\n",
    "    df = df.set_index('Attributes')\n",
    "    df = df.T.reset_index(drop=True)\n",
    "    df = df.rename_axis(None, axis=1)\n",
    "    return df\n"
   ]
  },
  {
   "cell_type": "code",
   "execution_count": 144,
   "id": "698597b4",
   "metadata": {},
   "outputs": [],
   "source": [
    "qn3_temp_df = pd.DataFrame()\n",
    "for idx, row in qn3_data.iterrows():\n",
    "    content = row['Description']\n",
    "    temp_table = parse_html(content)\n",
    "    qn3_temp_df = pd.concat([qn3_temp_df, temp_table])"
   ]
  },
  {
   "cell_type": "code",
   "execution_count": 145,
   "id": "5eaa4d84",
   "metadata": {},
   "outputs": [],
   "source": [
    "qn3_data = pd.concat([qn3_data.reset_index(drop=True), qn3_temp_df.reset_index(drop=True)], axis=1)"
   ]
  },
  {
   "cell_type": "code",
   "execution_count": 146,
   "id": "717044ae",
   "metadata": {},
   "outputs": [
    {
     "data": {
      "text/html": [
       "<div>\n",
       "<style scoped>\n",
       "    .dataframe tbody tr th:only-of-type {\n",
       "        vertical-align: middle;\n",
       "    }\n",
       "\n",
       "    .dataframe tbody tr th {\n",
       "        vertical-align: top;\n",
       "    }\n",
       "\n",
       "    .dataframe thead th {\n",
       "        text-align: right;\n",
       "    }\n",
       "</style>\n",
       "<table border=\"1\" class=\"dataframe\">\n",
       "  <thead>\n",
       "    <tr style=\"text-align: right;\">\n",
       "      <th></th>\n",
       "      <th>Name</th>\n",
       "      <th>Description</th>\n",
       "      <th>geometry</th>\n",
       "      <th>Y</th>\n",
       "      <th>X</th>\n",
       "      <th>LOCATION_NAME</th>\n",
       "      <th>LOCATION_TYPE</th>\n",
       "      <th>POSTAL_CODE</th>\n",
       "      <th>STREET_ADDRESS</th>\n",
       "      <th>OPERATOR_NAME</th>\n",
       "      <th>INC_CRC</th>\n",
       "      <th>FMEL_UPD_D</th>\n",
       "    </tr>\n",
       "  </thead>\n",
       "  <tbody>\n",
       "    <tr>\n",
       "      <th>0</th>\n",
       "      <td>kml_1</td>\n",
       "      <td>&lt;center&gt;&lt;table&gt;&lt;tr&gt;&lt;th colspan='2' align='cent...</td>\n",
       "      <td>POINT Z (103.74751 1.35019 0.00000)</td>\n",
       "      <td>36922.92412</td>\n",
       "      <td>18450.95232</td>\n",
       "      <td>Bukit Batok CC</td>\n",
       "      <td>Community</td>\n",
       "      <td>659959</td>\n",
       "      <td>21 Bukit Batok Central</td>\n",
       "      <td>M1</td>\n",
       "      <td>9BB55356462956EF</td>\n",
       "      <td>20200318162531</td>\n",
       "    </tr>\n",
       "    <tr>\n",
       "      <th>1</th>\n",
       "      <td>kml_2</td>\n",
       "      <td>&lt;center&gt;&lt;table&gt;&lt;tr&gt;&lt;th colspan='2' align='cent...</td>\n",
       "      <td>POINT Z (103.83609 1.42804 0.00000)</td>\n",
       "      <td>45530.46595</td>\n",
       "      <td>28308.65184</td>\n",
       "      <td>1 Northpoint Drive</td>\n",
       "      <td>Community</td>\n",
       "      <td>768019</td>\n",
       "      <td>1 Northpoint Drive</td>\n",
       "      <td>M1</td>\n",
       "      <td>BD725D1716D3959C</td>\n",
       "      <td>20200318162531</td>\n",
       "    </tr>\n",
       "    <tr>\n",
       "      <th>2</th>\n",
       "      <td>kml_3</td>\n",
       "      <td>&lt;center&gt;&lt;table&gt;&lt;tr&gt;&lt;th colspan='2' align='cent...</td>\n",
       "      <td>POINT Z (103.85298 1.30020 0.00000)</td>\n",
       "      <td>31394.65632</td>\n",
       "      <td>30187.62071</td>\n",
       "      <td>155 Waterloo St</td>\n",
       "      <td>Government</td>\n",
       "      <td>187962</td>\n",
       "      <td>155 Waterloo Street</td>\n",
       "      <td>M1</td>\n",
       "      <td>05EF8371C69FD210</td>\n",
       "      <td>20200318162531</td>\n",
       "    </tr>\n",
       "    <tr>\n",
       "      <th>3</th>\n",
       "      <td>kml_4</td>\n",
       "      <td>&lt;center&gt;&lt;table&gt;&lt;tr&gt;&lt;th colspan='2' align='cent...</td>\n",
       "      <td>POINT Z (103.84648 1.28633 0.00000)</td>\n",
       "      <td>29861.29437</td>\n",
       "      <td>29464.67939</td>\n",
       "      <td>20 Upper Pickering St</td>\n",
       "      <td>Community</td>\n",
       "      <td>058284</td>\n",
       "      <td>20 Upper Pickering Street</td>\n",
       "      <td>M1</td>\n",
       "      <td>AD6A8E558E96E20B</td>\n",
       "      <td>20200318162531</td>\n",
       "    </tr>\n",
       "    <tr>\n",
       "      <th>4</th>\n",
       "      <td>kml_5</td>\n",
       "      <td>&lt;center&gt;&lt;table&gt;&lt;tr&gt;&lt;th colspan='2' align='cent...</td>\n",
       "      <td>POINT Z (103.88965 1.39923 0.00000)</td>\n",
       "      <td>42345.17715</td>\n",
       "      <td>34269.36498</td>\n",
       "      <td>7 Star Canteen</td>\n",
       "      <td>F&amp;B</td>\n",
       "      <td>540338</td>\n",
       "      <td>338 Anchorvale Crescent</td>\n",
       "      <td>M1</td>\n",
       "      <td>67FF233DF9721356</td>\n",
       "      <td>20200318162531</td>\n",
       "    </tr>\n",
       "  </tbody>\n",
       "</table>\n",
       "</div>"
      ],
      "text/plain": [
       "    Name                                        Description  \\\n",
       "0  kml_1  <center><table><tr><th colspan='2' align='cent...   \n",
       "1  kml_2  <center><table><tr><th colspan='2' align='cent...   \n",
       "2  kml_3  <center><table><tr><th colspan='2' align='cent...   \n",
       "3  kml_4  <center><table><tr><th colspan='2' align='cent...   \n",
       "4  kml_5  <center><table><tr><th colspan='2' align='cent...   \n",
       "\n",
       "                              geometry            Y            X  \\\n",
       "0  POINT Z (103.74751 1.35019 0.00000)  36922.92412  18450.95232   \n",
       "1  POINT Z (103.83609 1.42804 0.00000)  45530.46595  28308.65184   \n",
       "2  POINT Z (103.85298 1.30020 0.00000)  31394.65632  30187.62071   \n",
       "3  POINT Z (103.84648 1.28633 0.00000)  29861.29437  29464.67939   \n",
       "4  POINT Z (103.88965 1.39923 0.00000)  42345.17715  34269.36498   \n",
       "\n",
       "           LOCATION_NAME LOCATION_TYPE POSTAL_CODE             STREET_ADDRESS  \\\n",
       "0         Bukit Batok CC     Community      659959     21 Bukit Batok Central   \n",
       "1     1 Northpoint Drive     Community      768019         1 Northpoint Drive   \n",
       "2        155 Waterloo St    Government      187962        155 Waterloo Street   \n",
       "3  20 Upper Pickering St     Community      058284  20 Upper Pickering Street   \n",
       "4         7 Star Canteen           F&B      540338    338 Anchorvale Crescent   \n",
       "\n",
       "  OPERATOR_NAME           INC_CRC      FMEL_UPD_D  \n",
       "0            M1  9BB55356462956EF  20200318162531  \n",
       "1            M1  BD725D1716D3959C  20200318162531  \n",
       "2            M1  05EF8371C69FD210  20200318162531  \n",
       "3            M1  AD6A8E558E96E20B  20200318162531  \n",
       "4            M1  67FF233DF9721356  20200318162531  "
      ]
     },
     "execution_count": 146,
     "metadata": {},
     "output_type": "execute_result"
    }
   ],
   "source": [
    "qn3_data.head()"
   ]
  },
  {
   "cell_type": "markdown",
   "id": "12d0598e",
   "metadata": {},
   "source": [
    "## Task 1: From the table, what are some of the information you can deduce for each hotspot?"
   ]
  },
  {
   "cell_type": "markdown",
   "id": "32fccc8e",
   "metadata": {},
   "source": [
    "We are able to deduce the location name, location type, postal code, street address and operator name for each hotspot from the initial description column."
   ]
  },
  {
   "cell_type": "markdown",
   "id": "4dc1b318",
   "metadata": {},
   "source": [
    "## Task 2: Due to a system error, the location type column for the last 200 rows of the dataset has become garbled. Using all earlier rows as well as all other columns in the dataset, build a classification model to predict the location type for these hotspots. You may treat the three rarest location types as one category. (Note: you may wish to create some additional features based on available ones.)"
   ]
  },
  {
   "cell_type": "code",
   "execution_count": 147,
   "id": "c2802dc9",
   "metadata": {},
   "outputs": [],
   "source": [
    "location_type_freq = Counter(qn3_data['LOCATION_TYPE'])\n",
    "location_type_freq_df = pd.DataFrame({'Location_Type': location_type_freq.keys(), 'Freq': location_type_freq.values()})\n",
    "location_type_freq_df = location_type_freq_df.sort_values(by=['Freq'], ascending=[False])"
   ]
  },
  {
   "cell_type": "code",
   "execution_count": 148,
   "id": "e27e90c3",
   "metadata": {},
   "outputs": [
    {
     "data": {
      "text/html": [
       "<div>\n",
       "<style scoped>\n",
       "    .dataframe tbody tr th:only-of-type {\n",
       "        vertical-align: middle;\n",
       "    }\n",
       "\n",
       "    .dataframe tbody tr th {\n",
       "        vertical-align: top;\n",
       "    }\n",
       "\n",
       "    .dataframe thead th {\n",
       "        text-align: right;\n",
       "    }\n",
       "</style>\n",
       "<table border=\"1\" class=\"dataframe\">\n",
       "  <thead>\n",
       "    <tr style=\"text-align: right;\">\n",
       "      <th></th>\n",
       "      <th>Location_Type</th>\n",
       "      <th>Freq</th>\n",
       "    </tr>\n",
       "  </thead>\n",
       "  <tbody>\n",
       "    <tr>\n",
       "      <th>11</th>\n",
       "      <td>Retail Shop</td>\n",
       "      <td>23</td>\n",
       "    </tr>\n",
       "    <tr>\n",
       "      <th>9</th>\n",
       "      <td>Shopping Mall</td>\n",
       "      <td>16</td>\n",
       "    </tr>\n",
       "    <tr>\n",
       "      <th>6</th>\n",
       "      <td>Tourist Attraction</td>\n",
       "      <td>12</td>\n",
       "    </tr>\n",
       "    <tr>\n",
       "      <th>10</th>\n",
       "      <td>Dormitory / Care Centre</td>\n",
       "      <td>4</td>\n",
       "    </tr>\n",
       "    <tr>\n",
       "      <th>8</th>\n",
       "      <td>Public Worship</td>\n",
       "      <td>2</td>\n",
       "    </tr>\n",
       "  </tbody>\n",
       "</table>\n",
       "</div>"
      ],
      "text/plain": [
       "              Location_Type  Freq\n",
       "11              Retail Shop    23\n",
       "9             Shopping Mall    16\n",
       "6        Tourist Attraction    12\n",
       "10  Dormitory / Care Centre     4\n",
       "8            Public Worship     2"
      ]
     },
     "execution_count": 148,
     "metadata": {},
     "output_type": "execute_result"
    }
   ],
   "source": [
    "location_type_freq_df.tail()"
   ]
  },
  {
   "cell_type": "code",
   "execution_count": 149,
   "id": "60337070",
   "metadata": {},
   "outputs": [],
   "source": [
    "# Group the three rarest location types as one category\n",
    "qn3_task2 = qn3_data.copy()\n",
    "qn3_task2['LOCATION_TYPE'] = qn3_task2['LOCATION_TYPE'].apply(lambda x: 'TA / D / CC / PW' \n",
    "                                                              if x in ('Tourist Attraction', 'Dormitory / Care Centre', 'Public Worship') \n",
    "                                                              else x)"
   ]
  },
  {
   "cell_type": "markdown",
   "id": "f3473ad2",
   "metadata": {},
   "source": [
    "### Feature Engineering"
   ]
  },
  {
   "cell_type": "code",
   "execution_count": 150,
   "id": "0b9569a8",
   "metadata": {},
   "outputs": [
    {
     "name": "stdout",
     "output_type": "stream",
     "text": [
      "SECTOR_CODE has 76 unique values\n"
     ]
    }
   ],
   "source": [
    "# To utilise postal code without having too high cardinality, we can reduce to sector code (i.e. first two digits)\n",
    "qn3_task2['SECTOR_CODE'] = qn3_task2['POSTAL_CODE'].apply(lambda x: x[:2])\n",
    "unique_sec_code = qn3_task2['SECTOR_CODE'].unique()\n",
    "print(f'SECTOR_CODE has {len(unique_sec_code)} unique values')"
   ]
  },
  {
   "cell_type": "markdown",
   "id": "43764a81",
   "metadata": {},
   "source": [
    "76 unique values is still too high, we can further group it into Postal Districts to reduce to 28 (29 to include potential unknown cases)"
   ]
  },
  {
   "cell_type": "code",
   "execution_count": 151,
   "id": "5ccaa67c",
   "metadata": {},
   "outputs": [],
   "source": [
    "# Source: https://www.mingproperty.sg/singapore-district-code/\n",
    "# Note: I would prefer an official site like \n",
    "#       https://www.ura.gov.sg/realEstateIIWeb/resources/misc/list_of_postal_districts.htm\n",
    "#       but the specific page is down\n",
    "def postal_district_mapper(sector_code):\n",
    "    code = int(sector_code)\n",
    "    if code in (1,2,3,4,5,6):\n",
    "        return '01'\n",
    "    elif code in (7,8):\n",
    "        return '02'\n",
    "    elif code in (14,15,16):\n",
    "        return '03'\n",
    "    elif code in (9,10):\n",
    "        return '04'\n",
    "    elif code in (11,12,13):\n",
    "        return '05'\n",
    "    elif code == 17:\n",
    "        return '06'\n",
    "    elif code in (18,19):\n",
    "        return '07'\n",
    "    elif code in (20,21):\n",
    "        return '08'\n",
    "    elif code in (22,23):\n",
    "        return '09'\n",
    "    elif code in (24,25,26,27):\n",
    "        return '10'\n",
    "    elif code in (28,29,30):\n",
    "        return '11'\n",
    "    elif code in (31,32,33):\n",
    "        return '12'\n",
    "    elif code in (34,35,36,37):\n",
    "        return '13'\n",
    "    elif code in (38,39,40,41):\n",
    "        return '14'\n",
    "    elif code in (42,43,44,45):\n",
    "        return '15'\n",
    "    elif code in (46,47,48):\n",
    "        return '16'\n",
    "    elif code in (49,50,81):\n",
    "        return '17'\n",
    "    elif code in (51,52):\n",
    "        return '18'\n",
    "    elif code in (53,54,55,82):\n",
    "        return '19'\n",
    "    elif code in (56,57):\n",
    "        return '20'\n",
    "    elif code in (58,59):\n",
    "        return '21'\n",
    "    elif code in (60,61,62,63,64):\n",
    "        return '22'\n",
    "    elif code in (65,66,67,68):\n",
    "        return '23'\n",
    "    elif code in (69,70,71):\n",
    "        return '24'\n",
    "    elif code in (72,73):\n",
    "        return '25'\n",
    "    elif code in (77,78):\n",
    "        return '26'\n",
    "    elif code in (75,76):\n",
    "        return '27'\n",
    "    elif code in (79,80):\n",
    "        return '28'\n",
    "    else:\n",
    "        return 'UNK'"
   ]
  },
  {
   "cell_type": "code",
   "execution_count": 152,
   "id": "51c20c4d",
   "metadata": {},
   "outputs": [],
   "source": [
    "qn3_task2['POSTAL_DISTRICT'] = qn3_task2['SECTOR_CODE'].apply(lambda x: postal_district_mapper(x))"
   ]
  },
  {
   "cell_type": "markdown",
   "id": "79bcd22b",
   "metadata": {},
   "source": [
    "`LOCATION_NAME` field is definitely very informative as it often contains words related to the Location Type. We will convert the field into word embedding / TF-IDF to be used as features"
   ]
  },
  {
   "cell_type": "code",
   "execution_count": 218,
   "id": "91849902",
   "metadata": {},
   "outputs": [],
   "source": [
    "qn3_task2['PP_LOC_NAME'] = qn3_task2['LOCATION_NAME'].apply(lambda x: re.sub(r'[^\\w\\s]', '', x).lower())"
   ]
  },
  {
   "cell_type": "code",
   "execution_count": 259,
   "id": "93657a86",
   "metadata": {},
   "outputs": [],
   "source": [
    "vect = TfidfVectorizer(\n",
    "    stop_words='english',\n",
    "    max_features = 500,\n",
    "    ngram_range=(1,2))\n",
    "words_vector = vect.fit_transform(qn3_task2['PP_LOC_NAME'])"
   ]
  },
  {
   "cell_type": "markdown",
   "id": "64b73f5a",
   "metadata": {},
   "source": [
    "### Split Dataset"
   ]
  },
  {
   "cell_type": "code",
   "execution_count": 260,
   "id": "af442769",
   "metadata": {},
   "outputs": [
    {
     "data": {
      "text/html": [
       "<div>\n",
       "<style scoped>\n",
       "    .dataframe tbody tr th:only-of-type {\n",
       "        vertical-align: middle;\n",
       "    }\n",
       "\n",
       "    .dataframe tbody tr th {\n",
       "        vertical-align: top;\n",
       "    }\n",
       "\n",
       "    .dataframe thead th {\n",
       "        text-align: right;\n",
       "    }\n",
       "</style>\n",
       "<table border=\"1\" class=\"dataframe\">\n",
       "  <thead>\n",
       "    <tr style=\"text-align: right;\">\n",
       "      <th></th>\n",
       "      <th>Name</th>\n",
       "      <th>Description</th>\n",
       "      <th>geometry</th>\n",
       "      <th>Y</th>\n",
       "      <th>X</th>\n",
       "      <th>LOCATION_NAME</th>\n",
       "      <th>LOCATION_TYPE</th>\n",
       "      <th>POSTAL_CODE</th>\n",
       "      <th>STREET_ADDRESS</th>\n",
       "      <th>OPERATOR_NAME</th>\n",
       "      <th>INC_CRC</th>\n",
       "      <th>FMEL_UPD_D</th>\n",
       "      <th>SECTOR_CODE</th>\n",
       "      <th>POSTAL_DISTRICT</th>\n",
       "      <th>PP_LOC_NAME</th>\n",
       "    </tr>\n",
       "  </thead>\n",
       "  <tbody>\n",
       "    <tr>\n",
       "      <th>0</th>\n",
       "      <td>kml_1</td>\n",
       "      <td>&lt;center&gt;&lt;table&gt;&lt;tr&gt;&lt;th colspan='2' align='cent...</td>\n",
       "      <td>POINT Z (103.74751 1.35019 0.00000)</td>\n",
       "      <td>36922.92412</td>\n",
       "      <td>18450.95232</td>\n",
       "      <td>Bukit Batok CC</td>\n",
       "      <td>Community</td>\n",
       "      <td>659959</td>\n",
       "      <td>21 Bukit Batok Central</td>\n",
       "      <td>M1</td>\n",
       "      <td>9BB55356462956EF</td>\n",
       "      <td>20200318162531</td>\n",
       "      <td>65</td>\n",
       "      <td>23</td>\n",
       "      <td>bukit batok cc</td>\n",
       "    </tr>\n",
       "    <tr>\n",
       "      <th>1</th>\n",
       "      <td>kml_2</td>\n",
       "      <td>&lt;center&gt;&lt;table&gt;&lt;tr&gt;&lt;th colspan='2' align='cent...</td>\n",
       "      <td>POINT Z (103.83609 1.42804 0.00000)</td>\n",
       "      <td>45530.46595</td>\n",
       "      <td>28308.65184</td>\n",
       "      <td>1 Northpoint Drive</td>\n",
       "      <td>Community</td>\n",
       "      <td>768019</td>\n",
       "      <td>1 Northpoint Drive</td>\n",
       "      <td>M1</td>\n",
       "      <td>BD725D1716D3959C</td>\n",
       "      <td>20200318162531</td>\n",
       "      <td>76</td>\n",
       "      <td>27</td>\n",
       "      <td>1 northpoint drive</td>\n",
       "    </tr>\n",
       "    <tr>\n",
       "      <th>2</th>\n",
       "      <td>kml_3</td>\n",
       "      <td>&lt;center&gt;&lt;table&gt;&lt;tr&gt;&lt;th colspan='2' align='cent...</td>\n",
       "      <td>POINT Z (103.85298 1.30020 0.00000)</td>\n",
       "      <td>31394.65632</td>\n",
       "      <td>30187.62071</td>\n",
       "      <td>155 Waterloo St</td>\n",
       "      <td>Government</td>\n",
       "      <td>187962</td>\n",
       "      <td>155 Waterloo Street</td>\n",
       "      <td>M1</td>\n",
       "      <td>05EF8371C69FD210</td>\n",
       "      <td>20200318162531</td>\n",
       "      <td>18</td>\n",
       "      <td>07</td>\n",
       "      <td>155 waterloo st</td>\n",
       "    </tr>\n",
       "    <tr>\n",
       "      <th>3</th>\n",
       "      <td>kml_4</td>\n",
       "      <td>&lt;center&gt;&lt;table&gt;&lt;tr&gt;&lt;th colspan='2' align='cent...</td>\n",
       "      <td>POINT Z (103.84648 1.28633 0.00000)</td>\n",
       "      <td>29861.29437</td>\n",
       "      <td>29464.67939</td>\n",
       "      <td>20 Upper Pickering St</td>\n",
       "      <td>Community</td>\n",
       "      <td>058284</td>\n",
       "      <td>20 Upper Pickering Street</td>\n",
       "      <td>M1</td>\n",
       "      <td>AD6A8E558E96E20B</td>\n",
       "      <td>20200318162531</td>\n",
       "      <td>05</td>\n",
       "      <td>01</td>\n",
       "      <td>20 upper pickering st</td>\n",
       "    </tr>\n",
       "    <tr>\n",
       "      <th>4</th>\n",
       "      <td>kml_5</td>\n",
       "      <td>&lt;center&gt;&lt;table&gt;&lt;tr&gt;&lt;th colspan='2' align='cent...</td>\n",
       "      <td>POINT Z (103.88965 1.39923 0.00000)</td>\n",
       "      <td>42345.17715</td>\n",
       "      <td>34269.36498</td>\n",
       "      <td>7 Star Canteen</td>\n",
       "      <td>F&amp;B</td>\n",
       "      <td>540338</td>\n",
       "      <td>338 Anchorvale Crescent</td>\n",
       "      <td>M1</td>\n",
       "      <td>67FF233DF9721356</td>\n",
       "      <td>20200318162531</td>\n",
       "      <td>54</td>\n",
       "      <td>19</td>\n",
       "      <td>7 star canteen</td>\n",
       "    </tr>\n",
       "  </tbody>\n",
       "</table>\n",
       "</div>"
      ],
      "text/plain": [
       "    Name                                        Description  \\\n",
       "0  kml_1  <center><table><tr><th colspan='2' align='cent...   \n",
       "1  kml_2  <center><table><tr><th colspan='2' align='cent...   \n",
       "2  kml_3  <center><table><tr><th colspan='2' align='cent...   \n",
       "3  kml_4  <center><table><tr><th colspan='2' align='cent...   \n",
       "4  kml_5  <center><table><tr><th colspan='2' align='cent...   \n",
       "\n",
       "                              geometry            Y            X  \\\n",
       "0  POINT Z (103.74751 1.35019 0.00000)  36922.92412  18450.95232   \n",
       "1  POINT Z (103.83609 1.42804 0.00000)  45530.46595  28308.65184   \n",
       "2  POINT Z (103.85298 1.30020 0.00000)  31394.65632  30187.62071   \n",
       "3  POINT Z (103.84648 1.28633 0.00000)  29861.29437  29464.67939   \n",
       "4  POINT Z (103.88965 1.39923 0.00000)  42345.17715  34269.36498   \n",
       "\n",
       "           LOCATION_NAME LOCATION_TYPE POSTAL_CODE             STREET_ADDRESS  \\\n",
       "0         Bukit Batok CC     Community      659959     21 Bukit Batok Central   \n",
       "1     1 Northpoint Drive     Community      768019         1 Northpoint Drive   \n",
       "2        155 Waterloo St    Government      187962        155 Waterloo Street   \n",
       "3  20 Upper Pickering St     Community      058284  20 Upper Pickering Street   \n",
       "4         7 Star Canteen           F&B      540338    338 Anchorvale Crescent   \n",
       "\n",
       "  OPERATOR_NAME           INC_CRC      FMEL_UPD_D SECTOR_CODE POSTAL_DISTRICT  \\\n",
       "0            M1  9BB55356462956EF  20200318162531          65              23   \n",
       "1            M1  BD725D1716D3959C  20200318162531          76              27   \n",
       "2            M1  05EF8371C69FD210  20200318162531          18              07   \n",
       "3            M1  AD6A8E558E96E20B  20200318162531          05              01   \n",
       "4            M1  67FF233DF9721356  20200318162531          54              19   \n",
       "\n",
       "             PP_LOC_NAME  \n",
       "0         bukit batok cc  \n",
       "1     1 northpoint drive  \n",
       "2        155 waterloo st  \n",
       "3  20 upper pickering st  \n",
       "4         7 star canteen  "
      ]
     },
     "execution_count": 260,
     "metadata": {},
     "output_type": "execute_result"
    }
   ],
   "source": [
    "qn3_task2.head()"
   ]
  },
  {
   "cell_type": "code",
   "execution_count": 261,
   "id": "109931da",
   "metadata": {},
   "outputs": [
    {
     "name": "stderr",
     "output_type": "stream",
     "text": [
      "/var/folders/wx/6glkypnn5pd_cjs1cdkt0v6m0000gn/T/ipykernel_12625/1947261485.py:4: SettingWithCopyWarning: \n",
      "A value is trying to be set on a copy of a slice from a DataFrame.\n",
      "Try using .loc[row_indexer,col_indexer] = value instead\n",
      "\n",
      "See the caveats in the documentation: https://pandas.pydata.org/pandas-docs/stable/user_guide/indexing.html#returning-a-view-versus-a-copy\n",
      "  qn3_task2_data_X[col] = qn3_task2_data_X[col].astype('category')\n",
      "/var/folders/wx/6glkypnn5pd_cjs1cdkt0v6m0000gn/T/ipykernel_12625/1947261485.py:4: SettingWithCopyWarning: \n",
      "A value is trying to be set on a copy of a slice from a DataFrame.\n",
      "Try using .loc[row_indexer,col_indexer] = value instead\n",
      "\n",
      "See the caveats in the documentation: https://pandas.pydata.org/pandas-docs/stable/user_guide/indexing.html#returning-a-view-versus-a-copy\n",
      "  qn3_task2_data_X[col] = qn3_task2_data_X[col].astype('category')\n"
     ]
    }
   ],
   "source": [
    "# Dummy encoding for categorical variables\n",
    "qn3_task2_data_X = qn3_task2[['OPERATOR_NAME', 'POSTAL_DISTRICT']]\n",
    "qn3_task2_data_y = qn3_task2[['LOCATION_TYPE']]\n",
    "for col in qn3_task2_data_X.columns:\n",
    "    qn3_task2_data_X[col] = qn3_task2_data_X[col].astype('category')\n",
    "qn3_task2_data_X = pd.get_dummies(qn3_task2_data_X)"
   ]
  },
  {
   "cell_type": "code",
   "execution_count": 262,
   "id": "043ca0bb",
   "metadata": {},
   "outputs": [],
   "source": [
    "# Combine word vector with our categorical variables\n",
    "sdf = pd.DataFrame.sparse.from_spmatrix(words_vector, columns=vect.get_feature_names_out())\n",
    "qn3_task2_data_X = pd.concat([qn3_task2_data_X, sdf], axis=1)"
   ]
  },
  {
   "cell_type": "code",
   "execution_count": 308,
   "id": "deb2eedf",
   "metadata": {},
   "outputs": [],
   "source": [
    "X_train = qn3_task2_data_X.iloc[:-200,]\n",
    "y_train = qn3_task2_data_y[:-200]\n",
    "X_test = qn3_task2_data_X.iloc[-200:,]\n",
    "y_test = qn3_task2_data_y[-200:]"
   ]
  },
  {
   "cell_type": "code",
   "execution_count": 309,
   "id": "582acbd0",
   "metadata": {},
   "outputs": [
    {
     "name": "stdout",
     "output_type": "stream",
     "text": [
      "Counter({'Community': 555, 'Healthcare': 363, 'F&B': 323, 'Welfare Organisation': 122, 'Commercial': 117, 'Public Transport': 30, 'Government': 24, 'Retail Shop': 20, 'TA / D / CC / PW': 18, 'School': 16, 'Shopping Mall': 12})\n"
     ]
    },
    {
     "name": "stderr",
     "output_type": "stream",
     "text": [
      "/Users/zhunhung/Desktop/GovTech/venv/lib/python3.9/site-packages/sklearn/utils/validation.py:768: UserWarning: pandas.DataFrame with sparse columns found.It will be converted to a dense numpy array.\n",
      "  warnings.warn(\n"
     ]
    }
   ],
   "source": [
    "# Upsample to handle class imbalance\n",
    "print(Counter(y_train['LOCATION_TYPE']))\n",
    "oversample = SMOTE()\n",
    "X_train, y_train = oversample.fit_resample(X_train, y_train)"
   ]
  },
  {
   "cell_type": "code",
   "execution_count": 310,
   "id": "20a31ce4",
   "metadata": {},
   "outputs": [
    {
     "name": "stderr",
     "output_type": "stream",
     "text": [
      "/Users/zhunhung/Desktop/GovTech/venv/lib/python3.9/site-packages/sklearn/preprocessing/_label.py:116: DataConversionWarning: A column-vector y was passed when a 1d array was expected. Please change the shape of y to (n_samples, ), for example using ravel().\n",
      "  y = column_or_1d(y, warn=True)\n"
     ]
    }
   ],
   "source": [
    "# Encode labels\n",
    "le = LabelEncoder()\n",
    "y_train = le.fit_transform(y_train)"
   ]
  },
  {
   "cell_type": "markdown",
   "id": "b4322c4f",
   "metadata": {},
   "source": [
    "For the start, our baseline model will be randomly guessing one of the 11 Location Types. This gives us 9% accuracy. This allow us to compare our machine learning models to see if it is performing better than random guessing."
   ]
  },
  {
   "cell_type": "code",
   "execution_count": 311,
   "id": "c77c3fc7",
   "metadata": {},
   "outputs": [],
   "source": [
    "baseline_score = round(1/len(qn3_task2['LOCATION_TYPE'].unique()),2)"
   ]
  },
  {
   "cell_type": "code",
   "execution_count": 312,
   "id": "b5d2d2e9",
   "metadata": {},
   "outputs": [
    {
     "data": {
      "text/plain": [
       "0.09"
      ]
     },
     "execution_count": 312,
     "metadata": {},
     "output_type": "execute_result"
    }
   ],
   "source": [
    "baseline_score"
   ]
  },
  {
   "cell_type": "markdown",
   "id": "e27bdfa9",
   "metadata": {},
   "source": [
    "Experiment with RandomForestClassifier"
   ]
  },
  {
   "cell_type": "code",
   "execution_count": 313,
   "id": "a3a89e47",
   "metadata": {},
   "outputs": [],
   "source": [
    "model = RandomForestClassifier()"
   ]
  },
  {
   "cell_type": "code",
   "execution_count": 314,
   "id": "67d18f36",
   "metadata": {},
   "outputs": [
    {
     "name": "stderr",
     "output_type": "stream",
     "text": [
      "/Users/zhunhung/Desktop/GovTech/venv/lib/python3.9/site-packages/sklearn/utils/validation.py:768: UserWarning: pandas.DataFrame with sparse columns found.It will be converted to a dense numpy array.\n",
      "  warnings.warn(\n",
      "/Users/zhunhung/Desktop/GovTech/venv/lib/python3.9/site-packages/sklearn/utils/validation.py:768: UserWarning: pandas.DataFrame with sparse columns found.It will be converted to a dense numpy array.\n",
      "  warnings.warn(\n",
      "/Users/zhunhung/Desktop/GovTech/venv/lib/python3.9/site-packages/sklearn/utils/validation.py:768: UserWarning: pandas.DataFrame with sparse columns found.It will be converted to a dense numpy array.\n",
      "  warnings.warn(\n",
      "/Users/zhunhung/Desktop/GovTech/venv/lib/python3.9/site-packages/sklearn/utils/validation.py:768: UserWarning: pandas.DataFrame with sparse columns found.It will be converted to a dense numpy array.\n",
      "  warnings.warn(\n",
      "/Users/zhunhung/Desktop/GovTech/venv/lib/python3.9/site-packages/sklearn/utils/validation.py:768: UserWarning: pandas.DataFrame with sparse columns found.It will be converted to a dense numpy array.\n",
      "  warnings.warn(\n",
      "/Users/zhunhung/Desktop/GovTech/venv/lib/python3.9/site-packages/sklearn/utils/validation.py:768: UserWarning: pandas.DataFrame with sparse columns found.It will be converted to a dense numpy array.\n",
      "  warnings.warn(\n"
     ]
    }
   ],
   "source": [
    "folds = StratifiedKFold(n_splits = 3)\n",
    "scores = cross_validate(model, X_train, y_train, scoring=['accuracy', 'f1_weighted', 'balanced_accuracy'], cv=folds)"
   ]
  },
  {
   "cell_type": "code",
   "execution_count": 316,
   "id": "1fdebc6a",
   "metadata": {},
   "outputs": [
    {
     "data": {
      "text/plain": [
       "{'fit_time': array([0.55131698, 0.55005598, 0.56949902]),\n",
       " 'score_time': array([0.03973699, 0.04187894, 0.039711  ]),\n",
       " 'test_accuracy': array([0.96658477, 0.95380835, 0.98230958]),\n",
       " 'test_f1_weighted': array([0.9666995 , 0.95314967, 0.98230708]),\n",
       " 'test_balanced_accuracy': array([0.96658477, 0.95380835, 0.98230958])}"
      ]
     },
     "execution_count": 316,
     "metadata": {},
     "output_type": "execute_result"
    }
   ],
   "source": [
    "scores"
   ]
  },
  {
   "cell_type": "markdown",
   "id": "cb3060ab",
   "metadata": {},
   "source": [
    "From the metrics within cross validation of 3 folds, we observe high performance of our Random Forest model (>0.96)."
   ]
  },
  {
   "cell_type": "markdown",
   "id": "6efaf5ad",
   "metadata": {},
   "source": [
    "## Task 3: The information has now been recovered from a backup copy of the file. Compared to the true location types, how good was your model? Be prepared to explain the metrics you use to evaluate your model."
   ]
  },
  {
   "cell_type": "code",
   "execution_count": 317,
   "id": "6897c922",
   "metadata": {},
   "outputs": [],
   "source": [
    "def evaluate_test(model, X_train, y_train, X_test, y_test, le):\n",
    "    model.fit(X_train, y_train)\n",
    "    y = le.transform(y_test)\n",
    "    y_pred = model.predict(X_test)\n",
    "    print(Counter(y_pred))\n",
    "    print('Acc:', accuracy_score(y, y_pred))\n",
    "    print('Balanced Acc:', balanced_accuracy_score(y, y_pred))\n",
    "    print('F1 (Weighted):', f1_score(y, y_pred, average='weighted'))\n",
    "    print(classification_report(y, y_pred))\n",
    "    return y_pred"
   ]
  },
  {
   "cell_type": "code",
   "execution_count": 318,
   "id": "8a821769",
   "metadata": {},
   "outputs": [
    {
     "name": "stderr",
     "output_type": "stream",
     "text": [
      "/Users/zhunhung/Desktop/GovTech/venv/lib/python3.9/site-packages/sklearn/utils/validation.py:768: UserWarning: pandas.DataFrame with sparse columns found.It will be converted to a dense numpy array.\n",
      "  warnings.warn(\n"
     ]
    },
    {
     "name": "stdout",
     "output_type": "stream",
     "text": [
      "Counter({2: 101, 3: 60, 5: 15, 7: 9, 0: 8, 8: 6, 4: 1})\n",
      "Acc: 0.66\n",
      "Balanced Acc: 0.4293635531135531\n",
      "F1 (Weighted): 0.6706835596596744\n",
      "              precision    recall  f1-score   support\n",
      "\n",
      "           0       0.38      0.38      0.38         8\n",
      "           1       0.00      0.00      0.00         2\n",
      "           2       1.00      0.96      0.98       105\n",
      "           3       0.00      0.00      0.00         1\n",
      "           4       1.00      0.02      0.04        52\n",
      "           5       1.00      0.94      0.97        16\n",
      "           6       0.00      0.00      0.00         3\n",
      "           7       0.89      1.00      0.94         8\n",
      "           8       0.67      1.00      0.80         4\n",
      "          10       0.00      0.00      0.00         1\n",
      "\n",
      "    accuracy                           0.66       200\n",
      "   macro avg       0.49      0.43      0.41       200\n",
      "weighted avg       0.93      0.66      0.67       200\n",
      "\n"
     ]
    },
    {
     "name": "stderr",
     "output_type": "stream",
     "text": [
      "/Users/zhunhung/Desktop/GovTech/venv/lib/python3.9/site-packages/sklearn/preprocessing/_label.py:134: DataConversionWarning: A column-vector y was passed when a 1d array was expected. Please change the shape of y to (n_samples, ), for example using ravel().\n",
      "  y = column_or_1d(y, dtype=self.classes_.dtype, warn=True)\n",
      "/Users/zhunhung/Desktop/GovTech/venv/lib/python3.9/site-packages/sklearn/utils/validation.py:768: UserWarning: pandas.DataFrame with sparse columns found.It will be converted to a dense numpy array.\n",
      "  warnings.warn(\n",
      "/Users/zhunhung/Desktop/GovTech/venv/lib/python3.9/site-packages/sklearn/metrics/_classification.py:1344: UndefinedMetricWarning: Precision and F-score are ill-defined and being set to 0.0 in labels with no predicted samples. Use `zero_division` parameter to control this behavior.\n",
      "  _warn_prf(average, modifier, msg_start, len(result))\n",
      "/Users/zhunhung/Desktop/GovTech/venv/lib/python3.9/site-packages/sklearn/metrics/_classification.py:1344: UndefinedMetricWarning: Precision and F-score are ill-defined and being set to 0.0 in labels with no predicted samples. Use `zero_division` parameter to control this behavior.\n",
      "  _warn_prf(average, modifier, msg_start, len(result))\n",
      "/Users/zhunhung/Desktop/GovTech/venv/lib/python3.9/site-packages/sklearn/metrics/_classification.py:1344: UndefinedMetricWarning: Precision and F-score are ill-defined and being set to 0.0 in labels with no predicted samples. Use `zero_division` parameter to control this behavior.\n",
      "  _warn_prf(average, modifier, msg_start, len(result))\n"
     ]
    }
   ],
   "source": [
    "y_pred = evaluate_test(model, X_train, y_train, X_test, y_test, le)"
   ]
  },
  {
   "cell_type": "markdown",
   "id": "5b81b3f1",
   "metadata": {},
   "source": [
    "Overall, our model performs decently well on our holdout dataset (unseen) with 0.67 F1-weighted score. This is much better than our baseline random model. As there is severe class imbalance among the holdout dataset, I chose metrics such as `balanced_accuracy` and `f1_score_weighted` to account for the imbalance when comparing metrics. `balanced_accuracy` is defined the same way as `macro avg recall` (i.e. sum of recall of all classes divided by number of classes) and `f1_score_weighted` does a weighted average of F1-Score by the class count. \\\n",
    " \\\n",
    "We can attempt to further improve the model by looking at the mistakes it made. For example, looking at Class 4 where it has a recall of 0.02 and precision of 1.00. This class represents `Healthcare`, which makes up ~25% of the holdout set."
   ]
  },
  {
   "cell_type": "code",
   "execution_count": 319,
   "id": "5abe546e",
   "metadata": {},
   "outputs": [],
   "source": [
    "eval_df = y_test.copy()\n",
    "eval_df['PRED_LOCATION_TYPE'] = le.inverse_transform(y_pred)\n",
    "eval_df = pd.concat([qn3_task2[['LOCATION_NAME', 'OPERATOR_NAME','POSTAL_DISTRICT']].iloc[-200:,], eval_df], axis=1)\n",
    "eval_df_health = eval_df[eval_df['LOCATION_TYPE']=='Healthcare']"
   ]
  },
  {
   "cell_type": "code",
   "execution_count": 320,
   "id": "8feea6a4",
   "metadata": {},
   "outputs": [
    {
     "data": {
      "text/html": [
       "<div>\n",
       "<style scoped>\n",
       "    .dataframe tbody tr th:only-of-type {\n",
       "        vertical-align: middle;\n",
       "    }\n",
       "\n",
       "    .dataframe tbody tr th {\n",
       "        vertical-align: top;\n",
       "    }\n",
       "\n",
       "    .dataframe thead th {\n",
       "        text-align: right;\n",
       "    }\n",
       "</style>\n",
       "<table border=\"1\" class=\"dataframe\">\n",
       "  <thead>\n",
       "    <tr style=\"text-align: right;\">\n",
       "      <th></th>\n",
       "      <th>LOCATION_NAME</th>\n",
       "      <th>OPERATOR_NAME</th>\n",
       "      <th>POSTAL_DISTRICT</th>\n",
       "      <th>LOCATION_TYPE</th>\n",
       "      <th>PRED_LOCATION_TYPE</th>\n",
       "    </tr>\n",
       "  </thead>\n",
       "  <tbody>\n",
       "    <tr>\n",
       "      <th>1600</th>\n",
       "      <td>National University Hospital</td>\n",
       "      <td>Singtel</td>\n",
       "      <td>05</td>\n",
       "      <td>Healthcare</td>\n",
       "      <td>Commercial</td>\n",
       "    </tr>\n",
       "    <tr>\n",
       "      <th>1606</th>\n",
       "      <td>Ng Teng Fong Hospital - Annex_Building</td>\n",
       "      <td>Singtel</td>\n",
       "      <td>22</td>\n",
       "      <td>Healthcare</td>\n",
       "      <td>Government</td>\n",
       "    </tr>\n",
       "    <tr>\n",
       "      <th>1607</th>\n",
       "      <td>Ng Teng Fong Hospital - Clinic_Tower(SOC)_B1</td>\n",
       "      <td>Singtel</td>\n",
       "      <td>22</td>\n",
       "      <td>Healthcare</td>\n",
       "      <td>Government</td>\n",
       "    </tr>\n",
       "    <tr>\n",
       "      <th>1608</th>\n",
       "      <td>Ng Teng Fong Hospital - Clinic_Tower(SOC)_B2</td>\n",
       "      <td>Singtel</td>\n",
       "      <td>22</td>\n",
       "      <td>Healthcare</td>\n",
       "      <td>Government</td>\n",
       "    </tr>\n",
       "    <tr>\n",
       "      <th>1609</th>\n",
       "      <td>Ng Teng Fong Hospital - Clinic_Tower(SOC)_L1</td>\n",
       "      <td>Singtel</td>\n",
       "      <td>22</td>\n",
       "      <td>Healthcare</td>\n",
       "      <td>Government</td>\n",
       "    </tr>\n",
       "  </tbody>\n",
       "</table>\n",
       "</div>"
      ],
      "text/plain": [
       "                                     LOCATION_NAME OPERATOR_NAME  \\\n",
       "1600                  National University Hospital       Singtel   \n",
       "1606        Ng Teng Fong Hospital - Annex_Building       Singtel   \n",
       "1607  Ng Teng Fong Hospital - Clinic_Tower(SOC)_B1       Singtel   \n",
       "1608  Ng Teng Fong Hospital - Clinic_Tower(SOC)_B2       Singtel   \n",
       "1609  Ng Teng Fong Hospital - Clinic_Tower(SOC)_L1       Singtel   \n",
       "\n",
       "     POSTAL_DISTRICT LOCATION_TYPE PRED_LOCATION_TYPE  \n",
       "1600              05    Healthcare         Commercial  \n",
       "1606              22    Healthcare         Government  \n",
       "1607              22    Healthcare         Government  \n",
       "1608              22    Healthcare         Government  \n",
       "1609              22    Healthcare         Government  "
      ]
     },
     "execution_count": 320,
     "metadata": {},
     "output_type": "execute_result"
    }
   ],
   "source": [
    "eval_df_health.head()"
   ]
  },
  {
   "cell_type": "code",
   "execution_count": 321,
   "id": "0d41706f",
   "metadata": {},
   "outputs": [
    {
     "data": {
      "text/plain": [
       "Counter({'Commercial': 1, 'Government': 50, 'Healthcare': 1})"
      ]
     },
     "execution_count": 321,
     "metadata": {},
     "output_type": "execute_result"
    }
   ],
   "source": [
    "Counter(eval_df_health['PRED_LOCATION_TYPE'])"
   ]
  },
  {
   "cell_type": "markdown",
   "id": "50f31aea",
   "metadata": {},
   "source": [
    "Given more time, we could utilise the following approach to improve the model further:\n",
    "1. Utilise SHAP values to understand **local importance** of features contributing most to each of these misclassified observation.\n",
    "2. Words like 'hospital', 'clinic' exist in our word vectors. However, it is possible that other features (words) might have had a stronger influence. From the observations, `Government` location type is most commonly predicted instead of `Healthcare`. Thus, there might be overlap of location name words.\n",
    "3. Having this understanding, we can then introduce further preprocessing to make the distinction clearer for the model and hopefully improve the recall of `Healthcare` and the overall performance of the model"
   ]
  },
  {
   "cell_type": "markdown",
   "id": "35c9fa0d",
   "metadata": {},
   "source": [
    "Lastly, hyperparameter tuning for our RandomForestClassifier can be the followup approach to further improve our model after finetuning the feature engineering methodology as mentioned above."
   ]
  },
  {
   "cell_type": "markdown",
   "id": "349badeb",
   "metadata": {},
   "source": [
    "# Question 4 (Visualization)"
   ]
  },
  {
   "cell_type": "markdown",
   "id": "8369197b",
   "metadata": {},
   "source": [
    "## Task: Help your colleague present the insight in an intuitive manner that is easily understood by a non-technical audience, and that reflects as many characteristics in the list as possible. Be prepared to justify any and every aspect of your visualisation (e.g. chart choice, colour palette, labels, orientation, etc.)."
   ]
  },
  {
   "cell_type": "markdown",
   "id": "08ba4bd3",
   "metadata": {},
   "source": [
    "Visualization can be found here: \\\n",
    "https://lookerstudio.google.com/reporting/56e36a69-5b96-4752-b8ee-c63bbc83562d \\\n",
    " \\\n",
    "It is also attached as a PDF file for offline viewing, `GovTech_Interview_Question_4_(Visualisation)_-_YongZhunHung.pdf`\n",
    "\n",
    "*Candidate Note: I used placeholders for the name of the specific course and year so that the colleague can easily substitute in.*"
   ]
  }
 ],
 "metadata": {
  "kernelspec": {
   "display_name": "Python 3 (ipykernel)",
   "language": "python",
   "name": "python3"
  },
  "language_info": {
   "codemirror_mode": {
    "name": "ipython",
    "version": 3
   },
   "file_extension": ".py",
   "mimetype": "text/x-python",
   "name": "python",
   "nbconvert_exporter": "python",
   "pygments_lexer": "ipython3",
   "version": "3.9.5"
  }
 },
 "nbformat": 4,
 "nbformat_minor": 5
}
